{
 "cells": [
  {
   "cell_type": "markdown",
   "metadata": {},
   "source": [
    "# PyCity Schools Analysis\n",
    "\n",
    "- Your analysis here\n",
    "  \n",
    "---"
   ]
  },
  {
   "cell_type": "code",
   "execution_count": 118,
   "metadata": {},
   "outputs": [],
   "source": [
    "# Dependencies and Setup\n",
    "import pandas as pd"
   ]
  },
  {
   "cell_type": "code",
   "execution_count": 119,
   "metadata": {},
   "outputs": [],
   "source": [
    "#Path\n",
    "from pathlib import Path\n",
    "school_data_csv = \"Resources/schools_complete.csv\"\n",
    "student_data_csv = \"Resources/students_complete.csv\""
   ]
  },
  {
   "cell_type": "code",
   "execution_count": 120,
   "metadata": {},
   "outputs": [
    {
     "data": {
      "text/html": [
       "<div>\n",
       "<style scoped>\n",
       "    .dataframe tbody tr th:only-of-type {\n",
       "        vertical-align: middle;\n",
       "    }\n",
       "\n",
       "    .dataframe tbody tr th {\n",
       "        vertical-align: top;\n",
       "    }\n",
       "\n",
       "    .dataframe thead th {\n",
       "        text-align: right;\n",
       "    }\n",
       "</style>\n",
       "<table border=\"1\" class=\"dataframe\">\n",
       "  <thead>\n",
       "    <tr style=\"text-align: right;\">\n",
       "      <th></th>\n",
       "      <th>School ID</th>\n",
       "      <th>school_name</th>\n",
       "      <th>type</th>\n",
       "      <th>size</th>\n",
       "      <th>budget</th>\n",
       "    </tr>\n",
       "  </thead>\n",
       "  <tbody>\n",
       "    <tr>\n",
       "      <th>0</th>\n",
       "      <td>0</td>\n",
       "      <td>Huang High School</td>\n",
       "      <td>District</td>\n",
       "      <td>2917</td>\n",
       "      <td>1910635</td>\n",
       "    </tr>\n",
       "  </tbody>\n",
       "</table>\n",
       "</div>"
      ],
      "text/plain": [
       "   School ID        school_name      type  size   budget\n",
       "0          0  Huang High School  District  2917  1910635"
      ]
     },
     "execution_count": 120,
     "metadata": {},
     "output_type": "execute_result"
    }
   ],
   "source": [
    "# Read School File as Dataframe\n",
    "school_df = pd.read_csv(school_data_csv)\n",
    "school_df.head(1)"
   ]
  },
  {
   "cell_type": "code",
   "execution_count": 121,
   "metadata": {},
   "outputs": [
    {
     "data": {
      "text/html": [
       "<div>\n",
       "<style scoped>\n",
       "    .dataframe tbody tr th:only-of-type {\n",
       "        vertical-align: middle;\n",
       "    }\n",
       "\n",
       "    .dataframe tbody tr th {\n",
       "        vertical-align: top;\n",
       "    }\n",
       "\n",
       "    .dataframe thead th {\n",
       "        text-align: right;\n",
       "    }\n",
       "</style>\n",
       "<table border=\"1\" class=\"dataframe\">\n",
       "  <thead>\n",
       "    <tr style=\"text-align: right;\">\n",
       "      <th></th>\n",
       "      <th>Student ID</th>\n",
       "      <th>student_name</th>\n",
       "      <th>gender</th>\n",
       "      <th>grade</th>\n",
       "      <th>school_name</th>\n",
       "      <th>reading_score</th>\n",
       "      <th>math_score</th>\n",
       "    </tr>\n",
       "  </thead>\n",
       "  <tbody>\n",
       "    <tr>\n",
       "      <th>0</th>\n",
       "      <td>0</td>\n",
       "      <td>Paul Bradley</td>\n",
       "      <td>M</td>\n",
       "      <td>9th</td>\n",
       "      <td>Huang High School</td>\n",
       "      <td>66</td>\n",
       "      <td>79</td>\n",
       "    </tr>\n",
       "  </tbody>\n",
       "</table>\n",
       "</div>"
      ],
      "text/plain": [
       "   Student ID  student_name gender grade        school_name  reading_score  \\\n",
       "0           0  Paul Bradley      M   9th  Huang High School             66   \n",
       "\n",
       "   math_score  \n",
       "0          79  "
      ]
     },
     "execution_count": 121,
     "metadata": {},
     "output_type": "execute_result"
    }
   ],
   "source": [
    "# Read Student File as Dataframe\n",
    "student_df = pd.read_csv(student_data_csv)\n",
    "student_df.head(1)"
   ]
  },
  {
   "cell_type": "code",
   "execution_count": 122,
   "metadata": {},
   "outputs": [
    {
     "data": {
      "text/html": [
       "<div>\n",
       "<style scoped>\n",
       "    .dataframe tbody tr th:only-of-type {\n",
       "        vertical-align: middle;\n",
       "    }\n",
       "\n",
       "    .dataframe tbody tr th {\n",
       "        vertical-align: top;\n",
       "    }\n",
       "\n",
       "    .dataframe thead th {\n",
       "        text-align: right;\n",
       "    }\n",
       "</style>\n",
       "<table border=\"1\" class=\"dataframe\">\n",
       "  <thead>\n",
       "    <tr style=\"text-align: right;\">\n",
       "      <th></th>\n",
       "      <th>Student ID</th>\n",
       "      <th>student_name</th>\n",
       "      <th>gender</th>\n",
       "      <th>grade</th>\n",
       "      <th>school_name</th>\n",
       "      <th>reading_score</th>\n",
       "      <th>math_score</th>\n",
       "      <th>School ID</th>\n",
       "      <th>type</th>\n",
       "      <th>size</th>\n",
       "      <th>budget</th>\n",
       "    </tr>\n",
       "  </thead>\n",
       "  <tbody>\n",
       "    <tr>\n",
       "      <th>0</th>\n",
       "      <td>0</td>\n",
       "      <td>Paul Bradley</td>\n",
       "      <td>M</td>\n",
       "      <td>9th</td>\n",
       "      <td>Huang High School</td>\n",
       "      <td>66</td>\n",
       "      <td>79</td>\n",
       "      <td>0</td>\n",
       "      <td>District</td>\n",
       "      <td>2917</td>\n",
       "      <td>1910635</td>\n",
       "    </tr>\n",
       "  </tbody>\n",
       "</table>\n",
       "</div>"
      ],
      "text/plain": [
       "   Student ID  student_name gender grade        school_name  reading_score  \\\n",
       "0           0  Paul Bradley      M   9th  Huang High School             66   \n",
       "\n",
       "   math_score  School ID      type  size   budget  \n",
       "0          79          0  District  2917  1910635  "
      ]
     },
     "execution_count": 122,
     "metadata": {},
     "output_type": "execute_result"
    }
   ],
   "source": [
    "# Combine the data into a single dataset.  \n",
    "combined_school_df = pd.merge(student_df, school_df, how=\"left\", on=[\"school_name\"])\n",
    "combined_school_df.head(1)"
   ]
  },
  {
   "cell_type": "markdown",
   "metadata": {},
   "source": [
    "## District Summary"
   ]
  },
  {
   "cell_type": "markdown",
   "metadata": {},
   "source": [
    "#### Total Number of Unique Schools"
   ]
  },
  {
   "cell_type": "code",
   "execution_count": 123,
   "metadata": {},
   "outputs": [
    {
     "data": {
      "text/plain": [
       "15"
      ]
     },
     "execution_count": 123,
     "metadata": {},
     "output_type": "execute_result"
    }
   ],
   "source": [
    "# Calculate the total number of unique schools\n",
    "school_count = len(combined_school_df[\"school_name\"].unique())\n",
    "school_count"
   ]
  },
  {
   "cell_type": "markdown",
   "metadata": {},
   "source": [
    "#### Total Students"
   ]
  },
  {
   "cell_type": "code",
   "execution_count": 124,
   "metadata": {},
   "outputs": [
    {
     "data": {
      "text/plain": [
       "39170"
      ]
     },
     "execution_count": 124,
     "metadata": {},
     "output_type": "execute_result"
    }
   ],
   "source": [
    "# Calculate the total number of students\n",
    "students_count = len(combined_school_df[\"student_name\"])\n",
    "students_count"
   ]
  },
  {
   "cell_type": "markdown",
   "metadata": {},
   "source": [
    "#### Total Budget"
   ]
  },
  {
   "cell_type": "code",
   "execution_count": 125,
   "metadata": {},
   "outputs": [
    {
     "data": {
      "text/plain": [
       "24649428"
      ]
     },
     "execution_count": 125,
     "metadata": {},
     "output_type": "execute_result"
    }
   ],
   "source": [
    "# Calculate the total budget\n",
    "total_budget = school_df[\"budget\"].sum()\n",
    "total_budget"
   ]
  },
  {
   "cell_type": "markdown",
   "metadata": {},
   "source": [
    "#### Average Math Score"
   ]
  },
  {
   "cell_type": "code",
   "execution_count": 126,
   "metadata": {},
   "outputs": [
    {
     "data": {
      "text/plain": [
       "78.98537145774827"
      ]
     },
     "execution_count": 126,
     "metadata": {},
     "output_type": "execute_result"
    }
   ],
   "source": [
    "# Calculate the average (mean) math score\n",
    "average_math_score = combined_school_df[\"math_score\"].mean()\n",
    "average_math_score"
   ]
  },
  {
   "cell_type": "markdown",
   "metadata": {},
   "source": [
    "#### Average Reading Score"
   ]
  },
  {
   "cell_type": "code",
   "execution_count": 127,
   "metadata": {},
   "outputs": [
    {
     "data": {
      "text/plain": [
       "81.87784018381414"
      ]
     },
     "execution_count": 127,
     "metadata": {},
     "output_type": "execute_result"
    }
   ],
   "source": [
    "# Calculate the average (mean) reading score\n",
    "average_reading_score = combined_school_df[\"reading_score\"].mean()\n",
    "average_reading_score"
   ]
  },
  {
   "cell_type": "markdown",
   "metadata": {},
   "source": [
    "#### % Passing Math"
   ]
  },
  {
   "cell_type": "code",
   "execution_count": 128,
   "metadata": {},
   "outputs": [
    {
     "data": {
      "text/plain": [
       "29370"
      ]
     },
     "execution_count": 128,
     "metadata": {},
     "output_type": "execute_result"
    }
   ],
   "source": [
    "# Use the following to calculate the percentage of students who passed math (math scores greather than or equal to 70)\n",
    "passing_math_count = combined_school_df[(combined_school_df[\"math_score\"] >= 70)].count()[\"student_name\"]\n",
    "passing_math_count"
   ]
  },
  {
   "cell_type": "code",
   "execution_count": 129,
   "metadata": {},
   "outputs": [
    {
     "data": {
      "text/plain": [
       "74.9808526933878"
      ]
     },
     "execution_count": 129,
     "metadata": {},
     "output_type": "execute_result"
    }
   ],
   "source": [
    "# Calculate the percentage of students who passed reading (hint: look at how the math percentage was calculated)  \n",
    "passing_math_percentage = passing_math_count / float(students_count) * 100\n",
    "passing_math_percentage"
   ]
  },
  {
   "cell_type": "markdown",
   "metadata": {},
   "source": [
    "#### % Passing Reading"
   ]
  },
  {
   "cell_type": "code",
   "execution_count": 130,
   "metadata": {},
   "outputs": [
    {
     "data": {
      "text/plain": [
       "33610"
      ]
     },
     "execution_count": 130,
     "metadata": {},
     "output_type": "execute_result"
    }
   ],
   "source": [
    "# Use the following to calculate the percentage of students that passed math and reading\n",
    "passing_reading_count = combined_school_df[(combined_school_df[\"reading_score\"] >= 70)].count()[\"student_name\"]\n",
    "passing_reading_count"
   ]
  },
  {
   "cell_type": "code",
   "execution_count": 131,
   "metadata": {},
   "outputs": [
    {
     "data": {
      "text/plain": [
       "85.80546336482001"
      ]
     },
     "execution_count": 131,
     "metadata": {},
     "output_type": "execute_result"
    }
   ],
   "source": [
    " # Calculate the percentage of students who passed reading (reading scores greather than or equal to 70)\n",
    "passing_reading_percentage = passing_reading_count / float(students_count) * 100\n",
    "passing_reading_percentage"
   ]
  },
  {
   "cell_type": "markdown",
   "metadata": {},
   "source": [
    "#### % Passing Both"
   ]
  },
  {
   "cell_type": "code",
   "execution_count": 132,
   "metadata": {},
   "outputs": [
    {
     "data": {
      "text/plain": [
       "25528"
      ]
     },
     "execution_count": 132,
     "metadata": {},
     "output_type": "execute_result"
    }
   ],
   "source": [
    "# Calculate the number of students that passed math and reading\n",
    "passing_math_reading_count = combined_school_df[\n",
    "    (combined_school_df[\"math_score\"] >= 70) & (combined_school_df[\"reading_score\"] >= 70)\n",
    "].count()[\"student_name\"]\n",
    "passing_math_reading_count"
   ]
  },
  {
   "cell_type": "code",
   "execution_count": 134,
   "metadata": {},
   "outputs": [
    {
     "data": {
      "text/plain": [
       "65.17232575950983"
      ]
     },
     "execution_count": 134,
     "metadata": {},
     "output_type": "execute_result"
    }
   ],
   "source": [
    "# Calculate the percentage of students that passed math and reading\n",
    "overall_passing_rate = passing_math_reading_count /  float(students_count) * 100\n",
    "overall_passing_rate"
   ]
  },
  {
   "cell_type": "markdown",
   "metadata": {},
   "source": [
    "#### High-level snapshot of the district's key metrics"
   ]
  },
  {
   "cell_type": "code",
   "execution_count": 135,
   "metadata": {},
   "outputs": [
    {
     "data": {
      "text/html": [
       "<div>\n",
       "<style scoped>\n",
       "    .dataframe tbody tr th:only-of-type {\n",
       "        vertical-align: middle;\n",
       "    }\n",
       "\n",
       "    .dataframe tbody tr th {\n",
       "        vertical-align: top;\n",
       "    }\n",
       "\n",
       "    .dataframe thead th {\n",
       "        text-align: right;\n",
       "    }\n",
       "</style>\n",
       "<table border=\"1\" class=\"dataframe\">\n",
       "  <thead>\n",
       "    <tr style=\"text-align: right;\">\n",
       "      <th></th>\n",
       "      <th>District Total Schools</th>\n",
       "      <th>District Total Students</th>\n",
       "      <th>District Total Budget</th>\n",
       "      <th>District Average Math Score</th>\n",
       "      <th>District Avarage Reading Score</th>\n",
       "      <th>District Percent Passing Math</th>\n",
       "      <th>District Percent Passing Reading</th>\n",
       "      <th>District Percent Passing Overall</th>\n",
       "    </tr>\n",
       "  </thead>\n",
       "  <tbody>\n",
       "    <tr>\n",
       "      <th>0</th>\n",
       "      <td>15</td>\n",
       "      <td>39170</td>\n",
       "      <td>24649428</td>\n",
       "      <td>78.985371</td>\n",
       "      <td>81.87784</td>\n",
       "      <td>74.980853</td>\n",
       "      <td>85.805463</td>\n",
       "      <td>65.172326</td>\n",
       "    </tr>\n",
       "  </tbody>\n",
       "</table>\n",
       "</div>"
      ],
      "text/plain": [
       "   District Total Schools  District Total Students  District Total Budget  \\\n",
       "0                      15                    39170               24649428   \n",
       "\n",
       "   District Average Math Score  District Avarage Reading Score  \\\n",
       "0                    78.985371                        81.87784   \n",
       "\n",
       "   District Percent Passing Math  District Percent Passing Reading  \\\n",
       "0                      74.980853                         85.805463   \n",
       "\n",
       "   District Percent Passing Overall  \n",
       "0                         65.172326  "
      ]
     },
     "execution_count": 135,
     "metadata": {},
     "output_type": "execute_result"
    }
   ],
   "source": [
    "district_summary_df = pd.DataFrame ([\n",
    "    {\"District Total Schools\":school_count,\n",
    "     \"District Total Students\":students_count,\n",
    "     \"District Total Budget\":total_budget,\n",
    "     \"District Average Math Score\":average_math_score, \n",
    "     \"District Avarage Reading Score\":average_reading_score, \n",
    "     \"District Percent Passing Math\":passing_math_percentage, \n",
    "     \"District Percent Passing Reading\":passing_reading_percentage, \n",
    "     \"District Percent Passing Overall\":overall_passing_rate}\n",
    "])\n",
    "district_summary_df.head()"
   ]
  },
  {
   "cell_type": "code",
   "execution_count": 136,
   "metadata": {},
   "outputs": [],
   "source": [
    "# Formatting\n",
    "district_summary_df[\"District Total Students\"] = district_summary_df[\"District Total Students\"].map(\"{:,}\".format)\n",
    "district_summary_df[\"District Total Budget\"] = district_summary_df[\"District Total Budget\"].map(\"${:,.2f}\".format)\n",
    "district_summary_df[\"District Average Math Score\"] = district_summary_df[\"District Average Math Score\"].map(\"%{:.2f}\".format)\n",
    "district_summary_df[\"District Avarage Reading Score\"] = district_summary_df[\"District Avarage Reading Score\"].map(\"%{:.2f}\".format)\n",
    "district_summary_df[\"District Percent Passing Math\"] = district_summary_df[\"District Percent Passing Math\"].map(\"%{:.2f}\".format)\n",
    "district_summary_df[\"District Percent Passing Reading\"] = district_summary_df[\"District Percent Passing Reading\"].map(\"%{:.2f}\".format)\n",
    "district_summary_df[\"District Percent Passing Overall\"] = district_summary_df[\"District Percent Passing Overall\"].map(\"%{:.2f}\".format)"
   ]
  },
  {
   "cell_type": "code",
   "execution_count": 137,
   "metadata": {},
   "outputs": [
    {
     "data": {
      "text/html": [
       "<div>\n",
       "<style scoped>\n",
       "    .dataframe tbody tr th:only-of-type {\n",
       "        vertical-align: middle;\n",
       "    }\n",
       "\n",
       "    .dataframe tbody tr th {\n",
       "        vertical-align: top;\n",
       "    }\n",
       "\n",
       "    .dataframe thead th {\n",
       "        text-align: right;\n",
       "    }\n",
       "</style>\n",
       "<table border=\"1\" class=\"dataframe\">\n",
       "  <thead>\n",
       "    <tr style=\"text-align: right;\">\n",
       "      <th></th>\n",
       "      <th>District Total Schools</th>\n",
       "      <th>District Total Students</th>\n",
       "      <th>District Total Budget</th>\n",
       "      <th>District Average Math Score</th>\n",
       "      <th>District Avarage Reading Score</th>\n",
       "      <th>District Percent Passing Math</th>\n",
       "      <th>District Percent Passing Reading</th>\n",
       "      <th>District Percent Passing Overall</th>\n",
       "    </tr>\n",
       "  </thead>\n",
       "  <tbody>\n",
       "    <tr>\n",
       "      <th>0</th>\n",
       "      <td>15</td>\n",
       "      <td>39,170</td>\n",
       "      <td>$24,649,428.00</td>\n",
       "      <td>%78.99</td>\n",
       "      <td>%81.88</td>\n",
       "      <td>%74.98</td>\n",
       "      <td>%85.81</td>\n",
       "      <td>%65.17</td>\n",
       "    </tr>\n",
       "  </tbody>\n",
       "</table>\n",
       "</div>"
      ],
      "text/plain": [
       "   District Total Schools District Total Students District Total Budget  \\\n",
       "0                      15                  39,170        $24,649,428.00   \n",
       "\n",
       "  District Average Math Score District Avarage Reading Score  \\\n",
       "0                      %78.99                         %81.88   \n",
       "\n",
       "  District Percent Passing Math District Percent Passing Reading  \\\n",
       "0                        %74.98                           %85.81   \n",
       "\n",
       "  District Percent Passing Overall  \n",
       "0                           %65.17  "
      ]
     },
     "execution_count": 137,
     "metadata": {},
     "output_type": "execute_result"
    }
   ],
   "source": [
    "# Display the DataFrame\n",
    "district_summary_df"
   ]
  },
  {
   "cell_type": "markdown",
   "metadata": {},
   "source": [
    "## School Summary"
   ]
  },
  {
   "cell_type": "code",
   "execution_count": 138,
   "metadata": {},
   "outputs": [
    {
     "data": {
      "text/plain": [
       "array(['Huang High School', 'Figueroa High School', 'Shelton High School',\n",
       "       'Hernandez High School', 'Griffin High School',\n",
       "       'Wilson High School', 'Cabrera High School', 'Bailey High School',\n",
       "       'Holden High School', 'Pena High School', 'Wright High School',\n",
       "       'Rodriguez High School', 'Johnson High School', 'Ford High School',\n",
       "       'Thomas High School'], dtype=object)"
      ]
     },
     "execution_count": 138,
     "metadata": {},
     "output_type": "execute_result"
    }
   ],
   "source": [
    "#School Names\n",
    "school_names = combined_school_df[\"school_name\"].unique()\n",
    "school_names"
   ]
  },
  {
   "cell_type": "code",
   "execution_count": 139,
   "metadata": {},
   "outputs": [
    {
     "data": {
      "text/html": [
       "<div>\n",
       "<style scoped>\n",
       "    .dataframe tbody tr th:only-of-type {\n",
       "        vertical-align: middle;\n",
       "    }\n",
       "\n",
       "    .dataframe tbody tr th {\n",
       "        vertical-align: top;\n",
       "    }\n",
       "\n",
       "    .dataframe thead th {\n",
       "        text-align: right;\n",
       "    }\n",
       "</style>\n",
       "<table border=\"1\" class=\"dataframe\">\n",
       "  <thead>\n",
       "    <tr style=\"text-align: right;\">\n",
       "      <th></th>\n",
       "      <th>school_name</th>\n",
       "    </tr>\n",
       "  </thead>\n",
       "  <tbody>\n",
       "    <tr>\n",
       "      <th>0</th>\n",
       "      <td>Huang High School</td>\n",
       "    </tr>\n",
       "    <tr>\n",
       "      <th>1</th>\n",
       "      <td>Figueroa High School</td>\n",
       "    </tr>\n",
       "    <tr>\n",
       "      <th>2</th>\n",
       "      <td>Shelton High School</td>\n",
       "    </tr>\n",
       "  </tbody>\n",
       "</table>\n",
       "</div>"
      ],
      "text/plain": [
       "            school_name\n",
       "0     Huang High School\n",
       "1  Figueroa High School\n",
       "2   Shelton High School"
      ]
     },
     "execution_count": 139,
     "metadata": {},
     "output_type": "execute_result"
    }
   ],
   "source": [
    "#Summary dataframe\n",
    "school_summary_df = pd.DataFrame({\n",
    "    \"school_name\":['Huang High School','Figueroa High School','Shelton High School','Hernandez High School','Griffin High School',\n",
    "                      'Wilson High School','Cabrera High School','Bailey High School','Holden High School','Pena High School',\n",
    "                      'Wright High School','Rodriguez High School','Johnson High School','Ford High School','Thomas High School']\n",
    "})\n",
    "school_summary_df.head(3)"
   ]
  },
  {
   "cell_type": "markdown",
   "metadata": {},
   "source": [
    "#### School Types"
   ]
  },
  {
   "cell_type": "code",
   "execution_count": 140,
   "metadata": {},
   "outputs": [
    {
     "data": {
      "text/html": [
       "<div>\n",
       "<style scoped>\n",
       "    .dataframe tbody tr th:only-of-type {\n",
       "        vertical-align: middle;\n",
       "    }\n",
       "\n",
       "    .dataframe tbody tr th {\n",
       "        vertical-align: top;\n",
       "    }\n",
       "\n",
       "    .dataframe thead th {\n",
       "        text-align: right;\n",
       "    }\n",
       "</style>\n",
       "<table border=\"1\" class=\"dataframe\">\n",
       "  <thead>\n",
       "    <tr style=\"text-align: right;\">\n",
       "      <th></th>\n",
       "      <th>school_name</th>\n",
       "      <th>type</th>\n",
       "    </tr>\n",
       "  </thead>\n",
       "  <tbody>\n",
       "    <tr>\n",
       "      <th>0</th>\n",
       "      <td>Huang High School</td>\n",
       "      <td>District</td>\n",
       "    </tr>\n",
       "  </tbody>\n",
       "</table>\n",
       "</div>"
      ],
      "text/plain": [
       "         school_name      type\n",
       "0  Huang High School  District"
      ]
     },
     "execution_count": 140,
     "metadata": {},
     "output_type": "execute_result"
    }
   ],
   "source": [
    "# Use the code provided to select all of the school types\n",
    "school_types_df = school_df[[\"school_name\",\"type\"]]\n",
    "school_types_df.head(1)"
   ]
  },
  {
   "cell_type": "code",
   "execution_count": 141,
   "metadata": {},
   "outputs": [
    {
     "data": {
      "text/html": [
       "<div>\n",
       "<style scoped>\n",
       "    .dataframe tbody tr th:only-of-type {\n",
       "        vertical-align: middle;\n",
       "    }\n",
       "\n",
       "    .dataframe tbody tr th {\n",
       "        vertical-align: top;\n",
       "    }\n",
       "\n",
       "    .dataframe thead th {\n",
       "        text-align: right;\n",
       "    }\n",
       "</style>\n",
       "<table border=\"1\" class=\"dataframe\">\n",
       "  <thead>\n",
       "    <tr style=\"text-align: right;\">\n",
       "      <th></th>\n",
       "      <th>school_name</th>\n",
       "      <th>type</th>\n",
       "    </tr>\n",
       "  </thead>\n",
       "  <tbody>\n",
       "    <tr>\n",
       "      <th>0</th>\n",
       "      <td>Huang High School</td>\n",
       "      <td>District</td>\n",
       "    </tr>\n",
       "    <tr>\n",
       "      <th>1</th>\n",
       "      <td>Figueroa High School</td>\n",
       "      <td>District</td>\n",
       "    </tr>\n",
       "    <tr>\n",
       "      <th>2</th>\n",
       "      <td>Shelton High School</td>\n",
       "      <td>Charter</td>\n",
       "    </tr>\n",
       "  </tbody>\n",
       "</table>\n",
       "</div>"
      ],
      "text/plain": [
       "            school_name      type\n",
       "0     Huang High School  District\n",
       "1  Figueroa High School  District\n",
       "2   Shelton High School   Charter"
      ]
     },
     "execution_count": 141,
     "metadata": {},
     "output_type": "execute_result"
    }
   ],
   "source": [
    "#School types to school summary dataframe\n",
    "school_summary_df = pd.merge(school_summary_df, school_types_df, how=\"left\", on=[\"school_name\"])\n",
    "school_summary_df.head(3)"
   ]
  },
  {
   "cell_type": "markdown",
   "metadata": {},
   "source": [
    "#### Total Students"
   ]
  },
  {
   "cell_type": "code",
   "execution_count": 142,
   "metadata": {},
   "outputs": [
    {
     "data": {
      "text/plain": [
       "Bailey High School    4976\n",
       "Name: school_name, dtype: int64"
      ]
     },
     "execution_count": 142,
     "metadata": {},
     "output_type": "execute_result"
    }
   ],
   "source": [
    "# Calculate the total student count per school\n",
    "per_school_counts = combined_school_df[\"school_name\"].value_counts()\n",
    "per_school_counts.head(1)"
   ]
  },
  {
   "cell_type": "code",
   "execution_count": 143,
   "metadata": {},
   "outputs": [
    {
     "data": {
      "text/html": [
       "<div>\n",
       "<style scoped>\n",
       "    .dataframe tbody tr th:only-of-type {\n",
       "        vertical-align: middle;\n",
       "    }\n",
       "\n",
       "    .dataframe tbody tr th {\n",
       "        vertical-align: top;\n",
       "    }\n",
       "\n",
       "    .dataframe thead th {\n",
       "        text-align: right;\n",
       "    }\n",
       "</style>\n",
       "<table border=\"1\" class=\"dataframe\">\n",
       "  <thead>\n",
       "    <tr style=\"text-align: right;\">\n",
       "      <th></th>\n",
       "      <th>school_name</th>\n",
       "      <th>total_students</th>\n",
       "    </tr>\n",
       "  </thead>\n",
       "  <tbody>\n",
       "    <tr>\n",
       "      <th>0</th>\n",
       "      <td>Bailey High School</td>\n",
       "      <td>4976</td>\n",
       "    </tr>\n",
       "  </tbody>\n",
       "</table>\n",
       "</div>"
      ],
      "text/plain": [
       "          school_name  total_students\n",
       "0  Bailey High School            4976"
      ]
     },
     "execution_count": 143,
     "metadata": {},
     "output_type": "execute_result"
    }
   ],
   "source": [
    "#Total student count dataframe\n",
    "per_school_counts_df = pd.DataFrame ([\n",
    "    {\"school_name\":\"Bailey High School\", \"total_students\":4976},\n",
    "    {\"school_name\":\"Johnson High School\", \"total_students\":4761},\n",
    "    {\"school_name\":\"Hernandez High School\", \"total_students\":4635},\n",
    "    {\"school_name\":\"Rodriguez High School\", \"total_students\":3999},\n",
    "    {\"school_name\":\"Figueroa High School\", \"total_students\":2949},\n",
    "    {\"school_name\":\"Huang High School\", \"total_students\":2917},\n",
    "    {\"school_name\":\"Ford High School\", \"total_students\":2739},\n",
    "    {\"school_name\":\"Wilson High School\", \"total_students\":2283},\n",
    "    {\"school_name\":\"Cabrera High School\", \"total_students\":1858},\n",
    "    {\"school_name\":\"Wright High School\", \"total_students\":1800},\n",
    "    {\"school_name\":\"Shelton High School\", \"total_students\":1761},\n",
    "    {\"school_name\":\"Thomas High School\", \"total_students\":1635},\n",
    "    {\"school_name\":\"Griffin High School\", \"total_students\":1468},\n",
    "    {\"school_name\":\"Pena High School\", \"total_students\":962},\n",
    "    {\"school_name\":\"Holden High School\", \"total_students\":427}  \n",
    "])\n",
    "\n",
    "per_school_counts_df.head(1)"
   ]
  },
  {
   "cell_type": "code",
   "execution_count": 144,
   "metadata": {},
   "outputs": [
    {
     "data": {
      "text/html": [
       "<div>\n",
       "<style scoped>\n",
       "    .dataframe tbody tr th:only-of-type {\n",
       "        vertical-align: middle;\n",
       "    }\n",
       "\n",
       "    .dataframe tbody tr th {\n",
       "        vertical-align: top;\n",
       "    }\n",
       "\n",
       "    .dataframe thead th {\n",
       "        text-align: right;\n",
       "    }\n",
       "</style>\n",
       "<table border=\"1\" class=\"dataframe\">\n",
       "  <thead>\n",
       "    <tr style=\"text-align: right;\">\n",
       "      <th></th>\n",
       "      <th>school_name</th>\n",
       "      <th>type</th>\n",
       "      <th>total_students</th>\n",
       "    </tr>\n",
       "  </thead>\n",
       "  <tbody>\n",
       "    <tr>\n",
       "      <th>0</th>\n",
       "      <td>Huang High School</td>\n",
       "      <td>District</td>\n",
       "      <td>2917</td>\n",
       "    </tr>\n",
       "    <tr>\n",
       "      <th>1</th>\n",
       "      <td>Figueroa High School</td>\n",
       "      <td>District</td>\n",
       "      <td>2949</td>\n",
       "    </tr>\n",
       "    <tr>\n",
       "      <th>2</th>\n",
       "      <td>Shelton High School</td>\n",
       "      <td>Charter</td>\n",
       "      <td>1761</td>\n",
       "    </tr>\n",
       "  </tbody>\n",
       "</table>\n",
       "</div>"
      ],
      "text/plain": [
       "            school_name      type  total_students\n",
       "0     Huang High School  District            2917\n",
       "1  Figueroa High School  District            2949\n",
       "2   Shelton High School   Charter            1761"
      ]
     },
     "execution_count": 144,
     "metadata": {},
     "output_type": "execute_result"
    }
   ],
   "source": [
    "#Add total students to school summary dataframe\n",
    "school_summary_df = pd.merge(school_summary_df, per_school_counts_df, how=\"left\", on=[\"school_name\"])\n",
    "school_summary_df.head(3)"
   ]
  },
  {
   "cell_type": "markdown",
   "metadata": {},
   "source": [
    "#### School Budget"
   ]
  },
  {
   "cell_type": "code",
   "execution_count": 145,
   "metadata": {},
   "outputs": [
    {
     "data": {
      "text/html": [
       "<div>\n",
       "<style scoped>\n",
       "    .dataframe tbody tr th:only-of-type {\n",
       "        vertical-align: middle;\n",
       "    }\n",
       "\n",
       "    .dataframe tbody tr th {\n",
       "        vertical-align: top;\n",
       "    }\n",
       "\n",
       "    .dataframe thead th {\n",
       "        text-align: right;\n",
       "    }\n",
       "</style>\n",
       "<table border=\"1\" class=\"dataframe\">\n",
       "  <thead>\n",
       "    <tr style=\"text-align: right;\">\n",
       "      <th></th>\n",
       "      <th>school_name</th>\n",
       "      <th>budget</th>\n",
       "    </tr>\n",
       "  </thead>\n",
       "  <tbody>\n",
       "    <tr>\n",
       "      <th>0</th>\n",
       "      <td>Huang High School</td>\n",
       "      <td>1910635</td>\n",
       "    </tr>\n",
       "  </tbody>\n",
       "</table>\n",
       "</div>"
      ],
      "text/plain": [
       "         school_name   budget\n",
       "0  Huang High School  1910635"
      ]
     },
     "execution_count": 145,
     "metadata": {},
     "output_type": "execute_result"
    }
   ],
   "source": [
    "# Calculate the total school budget\n",
    "per_school_budget_df = school_df[[\"school_name\",\"budget\"]]\n",
    "per_school_budget_df.head(1)"
   ]
  },
  {
   "cell_type": "code",
   "execution_count": 146,
   "metadata": {},
   "outputs": [
    {
     "data": {
      "text/html": [
       "<div>\n",
       "<style scoped>\n",
       "    .dataframe tbody tr th:only-of-type {\n",
       "        vertical-align: middle;\n",
       "    }\n",
       "\n",
       "    .dataframe tbody tr th {\n",
       "        vertical-align: top;\n",
       "    }\n",
       "\n",
       "    .dataframe thead th {\n",
       "        text-align: right;\n",
       "    }\n",
       "</style>\n",
       "<table border=\"1\" class=\"dataframe\">\n",
       "  <thead>\n",
       "    <tr style=\"text-align: right;\">\n",
       "      <th></th>\n",
       "      <th>school_name</th>\n",
       "      <th>type</th>\n",
       "      <th>total_students</th>\n",
       "      <th>budget</th>\n",
       "    </tr>\n",
       "  </thead>\n",
       "  <tbody>\n",
       "    <tr>\n",
       "      <th>0</th>\n",
       "      <td>Huang High School</td>\n",
       "      <td>District</td>\n",
       "      <td>2917</td>\n",
       "      <td>1910635</td>\n",
       "    </tr>\n",
       "    <tr>\n",
       "      <th>1</th>\n",
       "      <td>Figueroa High School</td>\n",
       "      <td>District</td>\n",
       "      <td>2949</td>\n",
       "      <td>1884411</td>\n",
       "    </tr>\n",
       "    <tr>\n",
       "      <th>2</th>\n",
       "      <td>Shelton High School</td>\n",
       "      <td>Charter</td>\n",
       "      <td>1761</td>\n",
       "      <td>1056600</td>\n",
       "    </tr>\n",
       "  </tbody>\n",
       "</table>\n",
       "</div>"
      ],
      "text/plain": [
       "            school_name      type  total_students   budget\n",
       "0     Huang High School  District            2917  1910635\n",
       "1  Figueroa High School  District            2949  1884411\n",
       "2   Shelton High School   Charter            1761  1056600"
      ]
     },
     "execution_count": 146,
     "metadata": {},
     "output_type": "execute_result"
    }
   ],
   "source": [
    "#Add budget to school summary dataframe\n",
    "school_summary_df = pd.merge(school_summary_df, per_school_budget_df, how=\"left\", on=[\"school_name\"])\n",
    "school_summary_df.head(3)"
   ]
  },
  {
   "cell_type": "markdown",
   "metadata": {},
   "source": [
    "#### School Budget Per Capita"
   ]
  },
  {
   "cell_type": "code",
   "execution_count": 147,
   "metadata": {},
   "outputs": [
    {
     "data": {
      "text/plain": [
       "0    655.0\n",
       "dtype: float64"
      ]
     },
     "execution_count": 147,
     "metadata": {},
     "output_type": "execute_result"
    }
   ],
   "source": [
    "# Calculate the total school budget and per capita spending per school\n",
    "per_school_capita = school_summary_df[\"budget\"] / school_summary_df[\"total_students\"]\n",
    "per_school_capita.head(1)"
   ]
  },
  {
   "cell_type": "code",
   "execution_count": 148,
   "metadata": {},
   "outputs": [
    {
     "data": {
      "text/html": [
       "<div>\n",
       "<style scoped>\n",
       "    .dataframe tbody tr th:only-of-type {\n",
       "        vertical-align: middle;\n",
       "    }\n",
       "\n",
       "    .dataframe tbody tr th {\n",
       "        vertical-align: top;\n",
       "    }\n",
       "\n",
       "    .dataframe thead th {\n",
       "        text-align: right;\n",
       "    }\n",
       "</style>\n",
       "<table border=\"1\" class=\"dataframe\">\n",
       "  <thead>\n",
       "    <tr style=\"text-align: right;\">\n",
       "      <th></th>\n",
       "      <th>school_name</th>\n",
       "      <th>type</th>\n",
       "      <th>total_students</th>\n",
       "      <th>budget</th>\n",
       "      <th>budget_per_capita</th>\n",
       "    </tr>\n",
       "  </thead>\n",
       "  <tbody>\n",
       "    <tr>\n",
       "      <th>0</th>\n",
       "      <td>Huang High School</td>\n",
       "      <td>District</td>\n",
       "      <td>2917</td>\n",
       "      <td>1910635</td>\n",
       "      <td>655.0</td>\n",
       "    </tr>\n",
       "    <tr>\n",
       "      <th>1</th>\n",
       "      <td>Figueroa High School</td>\n",
       "      <td>District</td>\n",
       "      <td>2949</td>\n",
       "      <td>1884411</td>\n",
       "      <td>639.0</td>\n",
       "    </tr>\n",
       "    <tr>\n",
       "      <th>2</th>\n",
       "      <td>Shelton High School</td>\n",
       "      <td>Charter</td>\n",
       "      <td>1761</td>\n",
       "      <td>1056600</td>\n",
       "      <td>600.0</td>\n",
       "    </tr>\n",
       "  </tbody>\n",
       "</table>\n",
       "</div>"
      ],
      "text/plain": [
       "            school_name      type  total_students   budget  budget_per_capita\n",
       "0     Huang High School  District            2917  1910635              655.0\n",
       "1  Figueroa High School  District            2949  1884411              639.0\n",
       "2   Shelton High School   Charter            1761  1056600              600.0"
      ]
     },
     "execution_count": 148,
     "metadata": {},
     "output_type": "execute_result"
    }
   ],
   "source": [
    "# Per capita spending per school to summary dataframe\n",
    "school_summary_df[\"budget_per_capita\"] = per_school_capita\n",
    "school_summary_df.head(3)"
   ]
  },
  {
   "cell_type": "markdown",
   "metadata": {},
   "source": [
    "#### Average Test Scores"
   ]
  },
  {
   "cell_type": "code",
   "execution_count": 149,
   "metadata": {},
   "outputs": [
    {
     "data": {
      "text/html": [
       "<div>\n",
       "<style scoped>\n",
       "    .dataframe tbody tr th:only-of-type {\n",
       "        vertical-align: middle;\n",
       "    }\n",
       "\n",
       "    .dataframe tbody tr th {\n",
       "        vertical-align: top;\n",
       "    }\n",
       "\n",
       "    .dataframe thead th {\n",
       "        text-align: right;\n",
       "    }\n",
       "</style>\n",
       "<table border=\"1\" class=\"dataframe\">\n",
       "  <thead>\n",
       "    <tr style=\"text-align: right;\">\n",
       "      <th></th>\n",
       "      <th>school_name</th>\n",
       "      <th>reading_score</th>\n",
       "      <th>math_score</th>\n",
       "    </tr>\n",
       "  </thead>\n",
       "  <tbody>\n",
       "    <tr>\n",
       "      <th>0</th>\n",
       "      <td>Huang High School</td>\n",
       "      <td>66</td>\n",
       "      <td>79</td>\n",
       "    </tr>\n",
       "  </tbody>\n",
       "</table>\n",
       "</div>"
      ],
      "text/plain": [
       "         school_name  reading_score  math_score\n",
       "0  Huang High School             66          79"
      ]
     },
     "execution_count": 149,
     "metadata": {},
     "output_type": "execute_result"
    }
   ],
   "source": [
    "#Create dataframe of scores from different students\n",
    "per_school_test_df = combined_school_df[[\"school_name\",\"reading_score\",\"math_score\"]]\n",
    "per_school_test_df.head(1)"
   ]
  },
  {
   "cell_type": "code",
   "execution_count": 150,
   "metadata": {},
   "outputs": [],
   "source": [
    "#Group the test data frame by school\n",
    "grouped_test_df=per_school_test_df.groupby([\"school_name\"])"
   ]
  },
  {
   "cell_type": "markdown",
   "metadata": {},
   "source": [
    "#### Average Math Score"
   ]
  },
  {
   "cell_type": "code",
   "execution_count": 151,
   "metadata": {},
   "outputs": [
    {
     "data": {
      "text/html": [
       "<div>\n",
       "<style scoped>\n",
       "    .dataframe tbody tr th:only-of-type {\n",
       "        vertical-align: middle;\n",
       "    }\n",
       "\n",
       "    .dataframe tbody tr th {\n",
       "        vertical-align: top;\n",
       "    }\n",
       "\n",
       "    .dataframe thead th {\n",
       "        text-align: right;\n",
       "    }\n",
       "</style>\n",
       "<table border=\"1\" class=\"dataframe\">\n",
       "  <thead>\n",
       "    <tr style=\"text-align: right;\">\n",
       "      <th></th>\n",
       "      <th>avg_math_score</th>\n",
       "    </tr>\n",
       "    <tr>\n",
       "      <th>school_name</th>\n",
       "      <th></th>\n",
       "    </tr>\n",
       "  </thead>\n",
       "  <tbody>\n",
       "    <tr>\n",
       "      <th>Bailey High School</th>\n",
       "      <td>77.048432</td>\n",
       "    </tr>\n",
       "  </tbody>\n",
       "</table>\n",
       "</div>"
      ],
      "text/plain": [
       "                    avg_math_score\n",
       "school_name                       \n",
       "Bailey High School       77.048432"
      ]
     },
     "execution_count": 151,
     "metadata": {},
     "output_type": "execute_result"
    }
   ],
   "source": [
    "# Calculate the average test scores per school\n",
    "per_school_math_df = grouped_test_df[[\"math_score\"]].mean()\n",
    "per_school_math_df = per_school_math_df.rename(columns = {\"math_score\":\"avg_math_score\"})\n",
    "per_school_math_df.head(1)"
   ]
  },
  {
   "cell_type": "code",
   "execution_count": 152,
   "metadata": {},
   "outputs": [
    {
     "data": {
      "text/html": [
       "<div>\n",
       "<style scoped>\n",
       "    .dataframe tbody tr th:only-of-type {\n",
       "        vertical-align: middle;\n",
       "    }\n",
       "\n",
       "    .dataframe tbody tr th {\n",
       "        vertical-align: top;\n",
       "    }\n",
       "\n",
       "    .dataframe thead th {\n",
       "        text-align: right;\n",
       "    }\n",
       "</style>\n",
       "<table border=\"1\" class=\"dataframe\">\n",
       "  <thead>\n",
       "    <tr style=\"text-align: right;\">\n",
       "      <th></th>\n",
       "      <th>school_name</th>\n",
       "      <th>type</th>\n",
       "      <th>total_students</th>\n",
       "      <th>budget</th>\n",
       "      <th>budget_per_capita</th>\n",
       "      <th>avg_math_score</th>\n",
       "    </tr>\n",
       "  </thead>\n",
       "  <tbody>\n",
       "    <tr>\n",
       "      <th>0</th>\n",
       "      <td>Huang High School</td>\n",
       "      <td>District</td>\n",
       "      <td>2917</td>\n",
       "      <td>1910635</td>\n",
       "      <td>655.0</td>\n",
       "      <td>76.629414</td>\n",
       "    </tr>\n",
       "    <tr>\n",
       "      <th>1</th>\n",
       "      <td>Figueroa High School</td>\n",
       "      <td>District</td>\n",
       "      <td>2949</td>\n",
       "      <td>1884411</td>\n",
       "      <td>639.0</td>\n",
       "      <td>76.711767</td>\n",
       "    </tr>\n",
       "    <tr>\n",
       "      <th>2</th>\n",
       "      <td>Shelton High School</td>\n",
       "      <td>Charter</td>\n",
       "      <td>1761</td>\n",
       "      <td>1056600</td>\n",
       "      <td>600.0</td>\n",
       "      <td>83.359455</td>\n",
       "    </tr>\n",
       "  </tbody>\n",
       "</table>\n",
       "</div>"
      ],
      "text/plain": [
       "            school_name      type  total_students   budget  budget_per_capita  \\\n",
       "0     Huang High School  District            2917  1910635              655.0   \n",
       "1  Figueroa High School  District            2949  1884411              639.0   \n",
       "2   Shelton High School   Charter            1761  1056600              600.0   \n",
       "\n",
       "   avg_math_score  \n",
       "0       76.629414  \n",
       "1       76.711767  \n",
       "2       83.359455  "
      ]
     },
     "execution_count": 152,
     "metadata": {},
     "output_type": "execute_result"
    }
   ],
   "source": [
    "#Add average math scores to school summary dataframe\n",
    "school_summary_df = pd.merge(school_summary_df, per_school_math_df, how=\"left\", on=[\"school_name\"])\n",
    "school_summary_df.head(3)"
   ]
  },
  {
   "cell_type": "markdown",
   "metadata": {},
   "source": [
    "#### Average Reading Scores"
   ]
  },
  {
   "cell_type": "code",
   "execution_count": 153,
   "metadata": {},
   "outputs": [
    {
     "data": {
      "text/html": [
       "<div>\n",
       "<style scoped>\n",
       "    .dataframe tbody tr th:only-of-type {\n",
       "        vertical-align: middle;\n",
       "    }\n",
       "\n",
       "    .dataframe tbody tr th {\n",
       "        vertical-align: top;\n",
       "    }\n",
       "\n",
       "    .dataframe thead th {\n",
       "        text-align: right;\n",
       "    }\n",
       "</style>\n",
       "<table border=\"1\" class=\"dataframe\">\n",
       "  <thead>\n",
       "    <tr style=\"text-align: right;\">\n",
       "      <th></th>\n",
       "      <th>avg_reading_score</th>\n",
       "    </tr>\n",
       "    <tr>\n",
       "      <th>school_name</th>\n",
       "      <th></th>\n",
       "    </tr>\n",
       "  </thead>\n",
       "  <tbody>\n",
       "    <tr>\n",
       "      <th>Bailey High School</th>\n",
       "      <td>81.033963</td>\n",
       "    </tr>\n",
       "  </tbody>\n",
       "</table>\n",
       "</div>"
      ],
      "text/plain": [
       "                    avg_reading_score\n",
       "school_name                          \n",
       "Bailey High School          81.033963"
      ]
     },
     "execution_count": 153,
     "metadata": {},
     "output_type": "execute_result"
    }
   ],
   "source": [
    "# Calculate the average reading test scores per school\n",
    "per_school_reading_df = grouped_test_df[[\"reading_score\"]].mean()\n",
    "per_school_reading_df = per_school_reading_df.rename(columns = {\"reading_score\":\"avg_reading_score\"})\n",
    "per_school_reading_df.head(1)"
   ]
  },
  {
   "cell_type": "code",
   "execution_count": 154,
   "metadata": {},
   "outputs": [
    {
     "data": {
      "text/html": [
       "<div>\n",
       "<style scoped>\n",
       "    .dataframe tbody tr th:only-of-type {\n",
       "        vertical-align: middle;\n",
       "    }\n",
       "\n",
       "    .dataframe tbody tr th {\n",
       "        vertical-align: top;\n",
       "    }\n",
       "\n",
       "    .dataframe thead th {\n",
       "        text-align: right;\n",
       "    }\n",
       "</style>\n",
       "<table border=\"1\" class=\"dataframe\">\n",
       "  <thead>\n",
       "    <tr style=\"text-align: right;\">\n",
       "      <th></th>\n",
       "      <th>school_name</th>\n",
       "      <th>type</th>\n",
       "      <th>total_students</th>\n",
       "      <th>budget</th>\n",
       "      <th>budget_per_capita</th>\n",
       "      <th>avg_math_score</th>\n",
       "      <th>avg_reading_score</th>\n",
       "    </tr>\n",
       "  </thead>\n",
       "  <tbody>\n",
       "    <tr>\n",
       "      <th>0</th>\n",
       "      <td>Huang High School</td>\n",
       "      <td>District</td>\n",
       "      <td>2917</td>\n",
       "      <td>1910635</td>\n",
       "      <td>655.0</td>\n",
       "      <td>76.629414</td>\n",
       "      <td>81.182722</td>\n",
       "    </tr>\n",
       "    <tr>\n",
       "      <th>1</th>\n",
       "      <td>Figueroa High School</td>\n",
       "      <td>District</td>\n",
       "      <td>2949</td>\n",
       "      <td>1884411</td>\n",
       "      <td>639.0</td>\n",
       "      <td>76.711767</td>\n",
       "      <td>81.158020</td>\n",
       "    </tr>\n",
       "    <tr>\n",
       "      <th>2</th>\n",
       "      <td>Shelton High School</td>\n",
       "      <td>Charter</td>\n",
       "      <td>1761</td>\n",
       "      <td>1056600</td>\n",
       "      <td>600.0</td>\n",
       "      <td>83.359455</td>\n",
       "      <td>83.725724</td>\n",
       "    </tr>\n",
       "  </tbody>\n",
       "</table>\n",
       "</div>"
      ],
      "text/plain": [
       "            school_name      type  total_students   budget  budget_per_capita  \\\n",
       "0     Huang High School  District            2917  1910635              655.0   \n",
       "1  Figueroa High School  District            2949  1884411              639.0   \n",
       "2   Shelton High School   Charter            1761  1056600              600.0   \n",
       "\n",
       "   avg_math_score  avg_reading_score  \n",
       "0       76.629414          81.182722  \n",
       "1       76.711767          81.158020  \n",
       "2       83.359455          83.725724  "
      ]
     },
     "execution_count": 154,
     "metadata": {},
     "output_type": "execute_result"
    }
   ],
   "source": [
    "#Add average reading scores to school summary dataframe\n",
    "school_summary_df = pd.merge(school_summary_df, per_school_reading_df, how=\"left\", on=[\"school_name\"])\n",
    "school_summary_df.head(3)"
   ]
  },
  {
   "cell_type": "markdown",
   "metadata": {},
   "source": [
    "#### Number Passing Math"
   ]
  },
  {
   "cell_type": "code",
   "execution_count": 155,
   "metadata": {},
   "outputs": [
    {
     "data": {
      "text/html": [
       "<div>\n",
       "<style scoped>\n",
       "    .dataframe tbody tr th:only-of-type {\n",
       "        vertical-align: middle;\n",
       "    }\n",
       "\n",
       "    .dataframe tbody tr th {\n",
       "        vertical-align: top;\n",
       "    }\n",
       "\n",
       "    .dataframe thead th {\n",
       "        text-align: right;\n",
       "    }\n",
       "</style>\n",
       "<table border=\"1\" class=\"dataframe\">\n",
       "  <thead>\n",
       "    <tr style=\"text-align: right;\">\n",
       "      <th></th>\n",
       "      <th>school_name</th>\n",
       "      <th>math_score</th>\n",
       "    </tr>\n",
       "  </thead>\n",
       "  <tbody>\n",
       "    <tr>\n",
       "      <th>0</th>\n",
       "      <td>Huang High School</td>\n",
       "      <td>79</td>\n",
       "    </tr>\n",
       "  </tbody>\n",
       "</table>\n",
       "</div>"
      ],
      "text/plain": [
       "         school_name  math_score\n",
       "0  Huang High School          79"
      ]
     },
     "execution_count": 155,
     "metadata": {},
     "output_type": "execute_result"
    }
   ],
   "source": [
    "#Dataframe of math scores\n",
    "per_school_mathtest_df=per_school_test_df[[\"school_name\",\"math_score\"]]\n",
    "per_school_mathtest_df.head(1)"
   ]
  },
  {
   "cell_type": "code",
   "execution_count": 156,
   "metadata": {},
   "outputs": [
    {
     "data": {
      "text/html": [
       "<div>\n",
       "<style scoped>\n",
       "    .dataframe tbody tr th:only-of-type {\n",
       "        vertical-align: middle;\n",
       "    }\n",
       "\n",
       "    .dataframe tbody tr th {\n",
       "        vertical-align: top;\n",
       "    }\n",
       "\n",
       "    .dataframe thead th {\n",
       "        text-align: right;\n",
       "    }\n",
       "</style>\n",
       "<table border=\"1\" class=\"dataframe\">\n",
       "  <thead>\n",
       "    <tr style=\"text-align: right;\">\n",
       "      <th></th>\n",
       "      <th>school_name</th>\n",
       "      <th>math_score</th>\n",
       "    </tr>\n",
       "  </thead>\n",
       "  <tbody>\n",
       "    <tr>\n",
       "      <th>0</th>\n",
       "      <td>Huang High School</td>\n",
       "      <td>79</td>\n",
       "    </tr>\n",
       "  </tbody>\n",
       "</table>\n",
       "</div>"
      ],
      "text/plain": [
       "         school_name  math_score\n",
       "0  Huang High School          79"
      ]
     },
     "execution_count": 156,
     "metadata": {},
     "output_type": "execute_result"
    }
   ],
   "source": [
    "#Dataframe of those who passed math\n",
    "students_passing_math_df = per_school_mathtest_df[(per_school_mathtest_df[\"math_score\"] >= 70)]\n",
    "students_passing_math_df.head(1)"
   ]
  },
  {
   "cell_type": "code",
   "execution_count": 157,
   "metadata": {},
   "outputs": [
    {
     "data": {
      "text/html": [
       "<div>\n",
       "<style scoped>\n",
       "    .dataframe tbody tr th:only-of-type {\n",
       "        vertical-align: middle;\n",
       "    }\n",
       "\n",
       "    .dataframe tbody tr th {\n",
       "        vertical-align: top;\n",
       "    }\n",
       "\n",
       "    .dataframe thead th {\n",
       "        text-align: right;\n",
       "    }\n",
       "</style>\n",
       "<table border=\"1\" class=\"dataframe\">\n",
       "  <thead>\n",
       "    <tr style=\"text-align: right;\">\n",
       "      <th></th>\n",
       "      <th>students_passing_math</th>\n",
       "    </tr>\n",
       "    <tr>\n",
       "      <th>school_name</th>\n",
       "      <th></th>\n",
       "    </tr>\n",
       "  </thead>\n",
       "  <tbody>\n",
       "    <tr>\n",
       "      <th>Bailey High School</th>\n",
       "      <td>3318</td>\n",
       "    </tr>\n",
       "  </tbody>\n",
       "</table>\n",
       "</div>"
      ],
      "text/plain": [
       "                    students_passing_math\n",
       "school_name                              \n",
       "Bailey High School                   3318"
      ]
     },
     "execution_count": 157,
     "metadata": {},
     "output_type": "execute_result"
    }
   ],
   "source": [
    "# Calculate the number of students per school with math scores of 70 or higher\n",
    "school_students_passing_math_df = students_passing_math_df.groupby([\"school_name\"]).count()\n",
    "school_students_passing_math_df = school_students_passing_math_df.rename(columns = {\"math_score\":\"students_passing_math\"})\n",
    "school_students_passing_math_df.head(1)"
   ]
  },
  {
   "cell_type": "code",
   "execution_count": 158,
   "metadata": {},
   "outputs": [
    {
     "data": {
      "text/html": [
       "<div>\n",
       "<style scoped>\n",
       "    .dataframe tbody tr th:only-of-type {\n",
       "        vertical-align: middle;\n",
       "    }\n",
       "\n",
       "    .dataframe tbody tr th {\n",
       "        vertical-align: top;\n",
       "    }\n",
       "\n",
       "    .dataframe thead th {\n",
       "        text-align: right;\n",
       "    }\n",
       "</style>\n",
       "<table border=\"1\" class=\"dataframe\">\n",
       "  <thead>\n",
       "    <tr style=\"text-align: right;\">\n",
       "      <th></th>\n",
       "      <th>school_name</th>\n",
       "      <th>type</th>\n",
       "      <th>total_students</th>\n",
       "      <th>budget</th>\n",
       "      <th>budget_per_capita</th>\n",
       "      <th>avg_math_score</th>\n",
       "      <th>avg_reading_score</th>\n",
       "      <th>students_passing_math</th>\n",
       "    </tr>\n",
       "  </thead>\n",
       "  <tbody>\n",
       "    <tr>\n",
       "      <th>0</th>\n",
       "      <td>Huang High School</td>\n",
       "      <td>District</td>\n",
       "      <td>2917</td>\n",
       "      <td>1910635</td>\n",
       "      <td>655.0</td>\n",
       "      <td>76.629414</td>\n",
       "      <td>81.182722</td>\n",
       "      <td>1916</td>\n",
       "    </tr>\n",
       "    <tr>\n",
       "      <th>1</th>\n",
       "      <td>Figueroa High School</td>\n",
       "      <td>District</td>\n",
       "      <td>2949</td>\n",
       "      <td>1884411</td>\n",
       "      <td>639.0</td>\n",
       "      <td>76.711767</td>\n",
       "      <td>81.158020</td>\n",
       "      <td>1946</td>\n",
       "    </tr>\n",
       "    <tr>\n",
       "      <th>2</th>\n",
       "      <td>Shelton High School</td>\n",
       "      <td>Charter</td>\n",
       "      <td>1761</td>\n",
       "      <td>1056600</td>\n",
       "      <td>600.0</td>\n",
       "      <td>83.359455</td>\n",
       "      <td>83.725724</td>\n",
       "      <td>1653</td>\n",
       "    </tr>\n",
       "  </tbody>\n",
       "</table>\n",
       "</div>"
      ],
      "text/plain": [
       "            school_name      type  total_students   budget  budget_per_capita  \\\n",
       "0     Huang High School  District            2917  1910635              655.0   \n",
       "1  Figueroa High School  District            2949  1884411              639.0   \n",
       "2   Shelton High School   Charter            1761  1056600              600.0   \n",
       "\n",
       "   avg_math_score  avg_reading_score  students_passing_math  \n",
       "0       76.629414          81.182722                   1916  \n",
       "1       76.711767          81.158020                   1946  \n",
       "2       83.359455          83.725724                   1653  "
      ]
     },
     "execution_count": 158,
     "metadata": {},
     "output_type": "execute_result"
    }
   ],
   "source": [
    "#Add students passing math to school summary dataframe\n",
    "school_summary_df = pd.merge(school_summary_df, school_students_passing_math_df, how=\"left\", on=[\"school_name\"])\n",
    "school_summary_df.head(3)"
   ]
  },
  {
   "cell_type": "markdown",
   "metadata": {},
   "source": [
    "#### Number Passing Reading"
   ]
  },
  {
   "cell_type": "code",
   "execution_count": 159,
   "metadata": {},
   "outputs": [
    {
     "data": {
      "text/html": [
       "<div>\n",
       "<style scoped>\n",
       "    .dataframe tbody tr th:only-of-type {\n",
       "        vertical-align: middle;\n",
       "    }\n",
       "\n",
       "    .dataframe tbody tr th {\n",
       "        vertical-align: top;\n",
       "    }\n",
       "\n",
       "    .dataframe thead th {\n",
       "        text-align: right;\n",
       "    }\n",
       "</style>\n",
       "<table border=\"1\" class=\"dataframe\">\n",
       "  <thead>\n",
       "    <tr style=\"text-align: right;\">\n",
       "      <th></th>\n",
       "      <th>school_name</th>\n",
       "      <th>reading_score</th>\n",
       "    </tr>\n",
       "  </thead>\n",
       "  <tbody>\n",
       "    <tr>\n",
       "      <th>0</th>\n",
       "      <td>Huang High School</td>\n",
       "      <td>66</td>\n",
       "    </tr>\n",
       "  </tbody>\n",
       "</table>\n",
       "</div>"
      ],
      "text/plain": [
       "         school_name  reading_score\n",
       "0  Huang High School             66"
      ]
     },
     "execution_count": 159,
     "metadata": {},
     "output_type": "execute_result"
    }
   ],
   "source": [
    "#Dataframe of reading scores\n",
    "per_school_readtest_df=per_school_test_df[[\"school_name\",\"reading_score\"]]\n",
    "per_school_readtest_df.head(1)"
   ]
  },
  {
   "cell_type": "code",
   "execution_count": 160,
   "metadata": {},
   "outputs": [
    {
     "data": {
      "text/html": [
       "<div>\n",
       "<style scoped>\n",
       "    .dataframe tbody tr th:only-of-type {\n",
       "        vertical-align: middle;\n",
       "    }\n",
       "\n",
       "    .dataframe tbody tr th {\n",
       "        vertical-align: top;\n",
       "    }\n",
       "\n",
       "    .dataframe thead th {\n",
       "        text-align: right;\n",
       "    }\n",
       "</style>\n",
       "<table border=\"1\" class=\"dataframe\">\n",
       "  <thead>\n",
       "    <tr style=\"text-align: right;\">\n",
       "      <th></th>\n",
       "      <th>school_name</th>\n",
       "      <th>reading_score</th>\n",
       "    </tr>\n",
       "  </thead>\n",
       "  <tbody>\n",
       "    <tr>\n",
       "      <th>1</th>\n",
       "      <td>Huang High School</td>\n",
       "      <td>94</td>\n",
       "    </tr>\n",
       "  </tbody>\n",
       "</table>\n",
       "</div>"
      ],
      "text/plain": [
       "         school_name  reading_score\n",
       "1  Huang High School             94"
      ]
     },
     "execution_count": 160,
     "metadata": {},
     "output_type": "execute_result"
    }
   ],
   "source": [
    "#Dataframe of those who passed reading\n",
    "students_passing_reading_df = per_school_readtest_df[(per_school_readtest_df[\"reading_score\"] >= 70)]\n",
    "students_passing_reading_df.head(1)"
   ]
  },
  {
   "cell_type": "code",
   "execution_count": 161,
   "metadata": {},
   "outputs": [
    {
     "data": {
      "text/html": [
       "<div>\n",
       "<style scoped>\n",
       "    .dataframe tbody tr th:only-of-type {\n",
       "        vertical-align: middle;\n",
       "    }\n",
       "\n",
       "    .dataframe tbody tr th {\n",
       "        vertical-align: top;\n",
       "    }\n",
       "\n",
       "    .dataframe thead th {\n",
       "        text-align: right;\n",
       "    }\n",
       "</style>\n",
       "<table border=\"1\" class=\"dataframe\">\n",
       "  <thead>\n",
       "    <tr style=\"text-align: right;\">\n",
       "      <th></th>\n",
       "      <th>students_passing_reading</th>\n",
       "    </tr>\n",
       "    <tr>\n",
       "      <th>school_name</th>\n",
       "      <th></th>\n",
       "    </tr>\n",
       "  </thead>\n",
       "  <tbody>\n",
       "    <tr>\n",
       "      <th>Bailey High School</th>\n",
       "      <td>4077</td>\n",
       "    </tr>\n",
       "  </tbody>\n",
       "</table>\n",
       "</div>"
      ],
      "text/plain": [
       "                    students_passing_reading\n",
       "school_name                                 \n",
       "Bailey High School                      4077"
      ]
     },
     "execution_count": 161,
     "metadata": {},
     "output_type": "execute_result"
    }
   ],
   "source": [
    "# Calculate the number of students per school with reading scores of 70 or higher\n",
    "school_students_passing_reading_df = students_passing_reading_df.groupby([\"school_name\"]).count()\n",
    "school_students_passing_reading_df = school_students_passing_reading_df.rename(columns = {\"reading_score\":\"students_passing_reading\"})\n",
    "school_students_passing_reading_df.head(1)"
   ]
  },
  {
   "cell_type": "code",
   "execution_count": 162,
   "metadata": {},
   "outputs": [
    {
     "data": {
      "text/html": [
       "<div>\n",
       "<style scoped>\n",
       "    .dataframe tbody tr th:only-of-type {\n",
       "        vertical-align: middle;\n",
       "    }\n",
       "\n",
       "    .dataframe tbody tr th {\n",
       "        vertical-align: top;\n",
       "    }\n",
       "\n",
       "    .dataframe thead th {\n",
       "        text-align: right;\n",
       "    }\n",
       "</style>\n",
       "<table border=\"1\" class=\"dataframe\">\n",
       "  <thead>\n",
       "    <tr style=\"text-align: right;\">\n",
       "      <th></th>\n",
       "      <th>school_name</th>\n",
       "      <th>type</th>\n",
       "      <th>total_students</th>\n",
       "      <th>budget</th>\n",
       "      <th>budget_per_capita</th>\n",
       "      <th>avg_math_score</th>\n",
       "      <th>avg_reading_score</th>\n",
       "      <th>students_passing_math</th>\n",
       "      <th>students_passing_reading</th>\n",
       "    </tr>\n",
       "  </thead>\n",
       "  <tbody>\n",
       "    <tr>\n",
       "      <th>0</th>\n",
       "      <td>Huang High School</td>\n",
       "      <td>District</td>\n",
       "      <td>2917</td>\n",
       "      <td>1910635</td>\n",
       "      <td>655.0</td>\n",
       "      <td>76.629414</td>\n",
       "      <td>81.182722</td>\n",
       "      <td>1916</td>\n",
       "      <td>2372</td>\n",
       "    </tr>\n",
       "    <tr>\n",
       "      <th>1</th>\n",
       "      <td>Figueroa High School</td>\n",
       "      <td>District</td>\n",
       "      <td>2949</td>\n",
       "      <td>1884411</td>\n",
       "      <td>639.0</td>\n",
       "      <td>76.711767</td>\n",
       "      <td>81.158020</td>\n",
       "      <td>1946</td>\n",
       "      <td>2381</td>\n",
       "    </tr>\n",
       "    <tr>\n",
       "      <th>2</th>\n",
       "      <td>Shelton High School</td>\n",
       "      <td>Charter</td>\n",
       "      <td>1761</td>\n",
       "      <td>1056600</td>\n",
       "      <td>600.0</td>\n",
       "      <td>83.359455</td>\n",
       "      <td>83.725724</td>\n",
       "      <td>1653</td>\n",
       "      <td>1688</td>\n",
       "    </tr>\n",
       "  </tbody>\n",
       "</table>\n",
       "</div>"
      ],
      "text/plain": [
       "            school_name      type  total_students   budget  budget_per_capita  \\\n",
       "0     Huang High School  District            2917  1910635              655.0   \n",
       "1  Figueroa High School  District            2949  1884411              639.0   \n",
       "2   Shelton High School   Charter            1761  1056600              600.0   \n",
       "\n",
       "   avg_math_score  avg_reading_score  students_passing_math  \\\n",
       "0       76.629414          81.182722                   1916   \n",
       "1       76.711767          81.158020                   1946   \n",
       "2       83.359455          83.725724                   1653   \n",
       "\n",
       "   students_passing_reading  \n",
       "0                      2372  \n",
       "1                      2381  \n",
       "2                      1688  "
      ]
     },
     "execution_count": 162,
     "metadata": {},
     "output_type": "execute_result"
    }
   ],
   "source": [
    "# Students passing reading to school summary dataframe\n",
    "school_summary_df = pd.merge(school_summary_df, school_students_passing_reading_df, how=\"left\", on=[\"school_name\"])\n",
    "school_summary_df.head(3)"
   ]
  },
  {
   "cell_type": "markdown",
   "metadata": {},
   "source": [
    "#### Overall Passing"
   ]
  },
  {
   "cell_type": "code",
   "execution_count": 163,
   "metadata": {},
   "outputs": [
    {
     "data": {
      "text/html": [
       "<div>\n",
       "<style scoped>\n",
       "    .dataframe tbody tr th:only-of-type {\n",
       "        vertical-align: middle;\n",
       "    }\n",
       "\n",
       "    .dataframe tbody tr th {\n",
       "        vertical-align: top;\n",
       "    }\n",
       "\n",
       "    .dataframe thead th {\n",
       "        text-align: right;\n",
       "    }\n",
       "</style>\n",
       "<table border=\"1\" class=\"dataframe\">\n",
       "  <thead>\n",
       "    <tr style=\"text-align: right;\">\n",
       "      <th></th>\n",
       "      <th>Student ID</th>\n",
       "      <th>student_name</th>\n",
       "      <th>gender</th>\n",
       "      <th>grade</th>\n",
       "      <th>school_name</th>\n",
       "      <th>reading_score</th>\n",
       "      <th>math_score</th>\n",
       "      <th>School ID</th>\n",
       "      <th>type</th>\n",
       "      <th>size</th>\n",
       "      <th>budget</th>\n",
       "    </tr>\n",
       "  </thead>\n",
       "  <tbody>\n",
       "    <tr>\n",
       "      <th>4</th>\n",
       "      <td>4</td>\n",
       "      <td>Bonnie Ray</td>\n",
       "      <td>F</td>\n",
       "      <td>9th</td>\n",
       "      <td>Huang High School</td>\n",
       "      <td>97</td>\n",
       "      <td>84</td>\n",
       "      <td>0</td>\n",
       "      <td>District</td>\n",
       "      <td>2917</td>\n",
       "      <td>1910635</td>\n",
       "    </tr>\n",
       "  </tbody>\n",
       "</table>\n",
       "</div>"
      ],
      "text/plain": [
       "   Student ID student_name gender grade        school_name  reading_score  \\\n",
       "4           4   Bonnie Ray      F   9th  Huang High School             97   \n",
       "\n",
       "   math_score  School ID      type  size   budget  \n",
       "4          84          0  District  2917  1910635  "
      ]
     },
     "execution_count": 163,
     "metadata": {},
     "output_type": "execute_result"
    }
   ],
   "source": [
    "# Dataframe with overall passers\n",
    "students_passing_math_and_reading_df = combined_school_df[\n",
    "    (combined_school_df[\"math_score\"] >= 70) & (combined_school_df[\"reading_score\"] >= 70)\n",
    "]\n",
    "students_passing_math_and_reading_df.head(1)"
   ]
  },
  {
   "cell_type": "code",
   "execution_count": 164,
   "metadata": {},
   "outputs": [
    {
     "data": {
      "text/html": [
       "<div>\n",
       "<style scoped>\n",
       "    .dataframe tbody tr th:only-of-type {\n",
       "        vertical-align: middle;\n",
       "    }\n",
       "\n",
       "    .dataframe tbody tr th {\n",
       "        vertical-align: top;\n",
       "    }\n",
       "\n",
       "    .dataframe thead th {\n",
       "        text-align: right;\n",
       "    }\n",
       "</style>\n",
       "<table border=\"1\" class=\"dataframe\">\n",
       "  <thead>\n",
       "    <tr style=\"text-align: right;\">\n",
       "      <th></th>\n",
       "      <th>students_passing_both</th>\n",
       "    </tr>\n",
       "    <tr>\n",
       "      <th>school_name</th>\n",
       "      <th></th>\n",
       "    </tr>\n",
       "  </thead>\n",
       "  <tbody>\n",
       "    <tr>\n",
       "      <th>Bailey High School</th>\n",
       "      <td>2719</td>\n",
       "    </tr>\n",
       "  </tbody>\n",
       "</table>\n",
       "</div>"
      ],
      "text/plain": [
       "                    students_passing_both\n",
       "school_name                              \n",
       "Bailey High School                   2719"
      ]
     },
     "execution_count": 164,
     "metadata": {},
     "output_type": "execute_result"
    }
   ],
   "source": [
    "#Group dataframe by school\n",
    "students_passing_math_and_reading_df = students_passing_math_and_reading_df.groupby([\"school_name\"]).count() [\"student_name\"]\n",
    "students_passing_math_and_reading_df = pd.DataFrame(students_passing_math_and_reading_df)\n",
    "students_passing_math_and_reading_df = students_passing_math_and_reading_df.rename(columns = {\"student_name\":\"students_passing_both\"})\n",
    "students_passing_math_and_reading_df.head(1)"
   ]
  },
  {
   "cell_type": "code",
   "execution_count": 165,
   "metadata": {},
   "outputs": [
    {
     "data": {
      "text/html": [
       "<div>\n",
       "<style scoped>\n",
       "    .dataframe tbody tr th:only-of-type {\n",
       "        vertical-align: middle;\n",
       "    }\n",
       "\n",
       "    .dataframe tbody tr th {\n",
       "        vertical-align: top;\n",
       "    }\n",
       "\n",
       "    .dataframe thead th {\n",
       "        text-align: right;\n",
       "    }\n",
       "</style>\n",
       "<table border=\"1\" class=\"dataframe\">\n",
       "  <thead>\n",
       "    <tr style=\"text-align: right;\">\n",
       "      <th></th>\n",
       "      <th>school_name</th>\n",
       "      <th>type</th>\n",
       "      <th>total_students</th>\n",
       "      <th>budget</th>\n",
       "      <th>budget_per_capita</th>\n",
       "      <th>avg_math_score</th>\n",
       "      <th>avg_reading_score</th>\n",
       "      <th>students_passing_math</th>\n",
       "      <th>students_passing_reading</th>\n",
       "      <th>students_passing_both</th>\n",
       "    </tr>\n",
       "  </thead>\n",
       "  <tbody>\n",
       "    <tr>\n",
       "      <th>0</th>\n",
       "      <td>Huang High School</td>\n",
       "      <td>District</td>\n",
       "      <td>2917</td>\n",
       "      <td>1910635</td>\n",
       "      <td>655.0</td>\n",
       "      <td>76.629414</td>\n",
       "      <td>81.182722</td>\n",
       "      <td>1916</td>\n",
       "      <td>2372</td>\n",
       "      <td>1561</td>\n",
       "    </tr>\n",
       "    <tr>\n",
       "      <th>1</th>\n",
       "      <td>Figueroa High School</td>\n",
       "      <td>District</td>\n",
       "      <td>2949</td>\n",
       "      <td>1884411</td>\n",
       "      <td>639.0</td>\n",
       "      <td>76.711767</td>\n",
       "      <td>81.158020</td>\n",
       "      <td>1946</td>\n",
       "      <td>2381</td>\n",
       "      <td>1569</td>\n",
       "    </tr>\n",
       "    <tr>\n",
       "      <th>2</th>\n",
       "      <td>Shelton High School</td>\n",
       "      <td>Charter</td>\n",
       "      <td>1761</td>\n",
       "      <td>1056600</td>\n",
       "      <td>600.0</td>\n",
       "      <td>83.359455</td>\n",
       "      <td>83.725724</td>\n",
       "      <td>1653</td>\n",
       "      <td>1688</td>\n",
       "      <td>1583</td>\n",
       "    </tr>\n",
       "  </tbody>\n",
       "</table>\n",
       "</div>"
      ],
      "text/plain": [
       "            school_name      type  total_students   budget  budget_per_capita  \\\n",
       "0     Huang High School  District            2917  1910635              655.0   \n",
       "1  Figueroa High School  District            2949  1884411              639.0   \n",
       "2   Shelton High School   Charter            1761  1056600              600.0   \n",
       "\n",
       "   avg_math_score  avg_reading_score  students_passing_math  \\\n",
       "0       76.629414          81.182722                   1916   \n",
       "1       76.711767          81.158020                   1946   \n",
       "2       83.359455          83.725724                   1653   \n",
       "\n",
       "   students_passing_reading  students_passing_both  \n",
       "0                      2372                   1561  \n",
       "1                      2381                   1569  \n",
       "2                      1688                   1583  "
      ]
     },
     "execution_count": 165,
     "metadata": {},
     "output_type": "execute_result"
    }
   ],
   "source": [
    "#Add students passing both to school summary dataframe\n",
    "school_summary_df = pd.merge(school_summary_df, students_passing_math_and_reading_df, how=\"left\", on=[\"school_name\"])\n",
    "school_summary_df.head(3)"
   ]
  },
  {
   "cell_type": "markdown",
   "metadata": {},
   "source": [
    "#### Percent Passing Math\n"
   ]
  },
  {
   "cell_type": "code",
   "execution_count": 166,
   "metadata": {},
   "outputs": [
    {
     "data": {
      "text/plain": [
       "0    65.683922\n",
       "dtype: float64"
      ]
     },
     "execution_count": 166,
     "metadata": {},
     "output_type": "execute_result"
    }
   ],
   "source": [
    "# Use the provided code to calculate the passing rates\n",
    "per_school_passing_math = school_summary_df[\"students_passing_math\"] / school_summary_df[\"total_students\"] * 100\n",
    "per_school_passing_math.head(1)"
   ]
  },
  {
   "cell_type": "code",
   "execution_count": 167,
   "metadata": {
    "scrolled": true
   },
   "outputs": [
    {
     "data": {
      "text/html": [
       "<div>\n",
       "<style scoped>\n",
       "    .dataframe tbody tr th:only-of-type {\n",
       "        vertical-align: middle;\n",
       "    }\n",
       "\n",
       "    .dataframe tbody tr th {\n",
       "        vertical-align: top;\n",
       "    }\n",
       "\n",
       "    .dataframe thead th {\n",
       "        text-align: right;\n",
       "    }\n",
       "</style>\n",
       "<table border=\"1\" class=\"dataframe\">\n",
       "  <thead>\n",
       "    <tr style=\"text-align: right;\">\n",
       "      <th></th>\n",
       "      <th>school_name</th>\n",
       "      <th>type</th>\n",
       "      <th>total_students</th>\n",
       "      <th>budget</th>\n",
       "      <th>budget_per_capita</th>\n",
       "      <th>avg_math_score</th>\n",
       "      <th>avg_reading_score</th>\n",
       "      <th>students_passing_math</th>\n",
       "      <th>students_passing_reading</th>\n",
       "      <th>students_passing_both</th>\n",
       "      <th>% Passing Math</th>\n",
       "    </tr>\n",
       "  </thead>\n",
       "  <tbody>\n",
       "    <tr>\n",
       "      <th>0</th>\n",
       "      <td>Huang High School</td>\n",
       "      <td>District</td>\n",
       "      <td>2917</td>\n",
       "      <td>1910635</td>\n",
       "      <td>655.0</td>\n",
       "      <td>76.629414</td>\n",
       "      <td>81.182722</td>\n",
       "      <td>1916</td>\n",
       "      <td>2372</td>\n",
       "      <td>1561</td>\n",
       "      <td>65.683922</td>\n",
       "    </tr>\n",
       "    <tr>\n",
       "      <th>1</th>\n",
       "      <td>Figueroa High School</td>\n",
       "      <td>District</td>\n",
       "      <td>2949</td>\n",
       "      <td>1884411</td>\n",
       "      <td>639.0</td>\n",
       "      <td>76.711767</td>\n",
       "      <td>81.158020</td>\n",
       "      <td>1946</td>\n",
       "      <td>2381</td>\n",
       "      <td>1569</td>\n",
       "      <td>65.988471</td>\n",
       "    </tr>\n",
       "    <tr>\n",
       "      <th>2</th>\n",
       "      <td>Shelton High School</td>\n",
       "      <td>Charter</td>\n",
       "      <td>1761</td>\n",
       "      <td>1056600</td>\n",
       "      <td>600.0</td>\n",
       "      <td>83.359455</td>\n",
       "      <td>83.725724</td>\n",
       "      <td>1653</td>\n",
       "      <td>1688</td>\n",
       "      <td>1583</td>\n",
       "      <td>93.867121</td>\n",
       "    </tr>\n",
       "  </tbody>\n",
       "</table>\n",
       "</div>"
      ],
      "text/plain": [
       "            school_name      type  total_students   budget  budget_per_capita  \\\n",
       "0     Huang High School  District            2917  1910635              655.0   \n",
       "1  Figueroa High School  District            2949  1884411              639.0   \n",
       "2   Shelton High School   Charter            1761  1056600              600.0   \n",
       "\n",
       "   avg_math_score  avg_reading_score  students_passing_math  \\\n",
       "0       76.629414          81.182722                   1916   \n",
       "1       76.711767          81.158020                   1946   \n",
       "2       83.359455          83.725724                   1653   \n",
       "\n",
       "   students_passing_reading  students_passing_both  % Passing Math  \n",
       "0                      2372                   1561       65.683922  \n",
       "1                      2381                   1569       65.988471  \n",
       "2                      1688                   1583       93.867121  "
      ]
     },
     "execution_count": 167,
     "metadata": {},
     "output_type": "execute_result"
    }
   ],
   "source": [
    "# Add Passing rates to school summary dataframe\n",
    "school_summary_df[\"% Passing Math\"]=per_school_passing_math\n",
    "school_summary_df.head(3)"
   ]
  },
  {
   "cell_type": "markdown",
   "metadata": {},
   "source": [
    "#### % Passing Reading"
   ]
  },
  {
   "cell_type": "code",
   "execution_count": 168,
   "metadata": {},
   "outputs": [
    {
     "data": {
      "text/plain": [
       "0    81.316421\n",
       "dtype: float64"
      ]
     },
     "execution_count": 168,
     "metadata": {},
     "output_type": "execute_result"
    }
   ],
   "source": [
    "# Use the provided code to calculate the passing rates\n",
    "per_school_passing_reading = school_summary_df[\"students_passing_reading\"] / school_summary_df[\"total_students\"] * 100\n",
    "per_school_passing_reading.head(1)"
   ]
  },
  {
   "cell_type": "code",
   "execution_count": 169,
   "metadata": {},
   "outputs": [
    {
     "data": {
      "text/html": [
       "<div>\n",
       "<style scoped>\n",
       "    .dataframe tbody tr th:only-of-type {\n",
       "        vertical-align: middle;\n",
       "    }\n",
       "\n",
       "    .dataframe tbody tr th {\n",
       "        vertical-align: top;\n",
       "    }\n",
       "\n",
       "    .dataframe thead th {\n",
       "        text-align: right;\n",
       "    }\n",
       "</style>\n",
       "<table border=\"1\" class=\"dataframe\">\n",
       "  <thead>\n",
       "    <tr style=\"text-align: right;\">\n",
       "      <th></th>\n",
       "      <th>school_name</th>\n",
       "      <th>type</th>\n",
       "      <th>total_students</th>\n",
       "      <th>budget</th>\n",
       "      <th>budget_per_capita</th>\n",
       "      <th>avg_math_score</th>\n",
       "      <th>avg_reading_score</th>\n",
       "      <th>students_passing_math</th>\n",
       "      <th>students_passing_reading</th>\n",
       "      <th>students_passing_both</th>\n",
       "      <th>% Passing Math</th>\n",
       "      <th>% Passing Reading</th>\n",
       "    </tr>\n",
       "  </thead>\n",
       "  <tbody>\n",
       "    <tr>\n",
       "      <th>0</th>\n",
       "      <td>Huang High School</td>\n",
       "      <td>District</td>\n",
       "      <td>2917</td>\n",
       "      <td>1910635</td>\n",
       "      <td>655.0</td>\n",
       "      <td>76.629414</td>\n",
       "      <td>81.182722</td>\n",
       "      <td>1916</td>\n",
       "      <td>2372</td>\n",
       "      <td>1561</td>\n",
       "      <td>65.683922</td>\n",
       "      <td>81.316421</td>\n",
       "    </tr>\n",
       "    <tr>\n",
       "      <th>1</th>\n",
       "      <td>Figueroa High School</td>\n",
       "      <td>District</td>\n",
       "      <td>2949</td>\n",
       "      <td>1884411</td>\n",
       "      <td>639.0</td>\n",
       "      <td>76.711767</td>\n",
       "      <td>81.158020</td>\n",
       "      <td>1946</td>\n",
       "      <td>2381</td>\n",
       "      <td>1569</td>\n",
       "      <td>65.988471</td>\n",
       "      <td>80.739234</td>\n",
       "    </tr>\n",
       "    <tr>\n",
       "      <th>2</th>\n",
       "      <td>Shelton High School</td>\n",
       "      <td>Charter</td>\n",
       "      <td>1761</td>\n",
       "      <td>1056600</td>\n",
       "      <td>600.0</td>\n",
       "      <td>83.359455</td>\n",
       "      <td>83.725724</td>\n",
       "      <td>1653</td>\n",
       "      <td>1688</td>\n",
       "      <td>1583</td>\n",
       "      <td>93.867121</td>\n",
       "      <td>95.854628</td>\n",
       "    </tr>\n",
       "  </tbody>\n",
       "</table>\n",
       "</div>"
      ],
      "text/plain": [
       "            school_name      type  total_students   budget  budget_per_capita  \\\n",
       "0     Huang High School  District            2917  1910635              655.0   \n",
       "1  Figueroa High School  District            2949  1884411              639.0   \n",
       "2   Shelton High School   Charter            1761  1056600              600.0   \n",
       "\n",
       "   avg_math_score  avg_reading_score  students_passing_math  \\\n",
       "0       76.629414          81.182722                   1916   \n",
       "1       76.711767          81.158020                   1946   \n",
       "2       83.359455          83.725724                   1653   \n",
       "\n",
       "   students_passing_reading  students_passing_both  % Passing Math  \\\n",
       "0                      2372                   1561       65.683922   \n",
       "1                      2381                   1569       65.988471   \n",
       "2                      1688                   1583       93.867121   \n",
       "\n",
       "   % Passing Reading  \n",
       "0          81.316421  \n",
       "1          80.739234  \n",
       "2          95.854628  "
      ]
     },
     "execution_count": 169,
     "metadata": {},
     "output_type": "execute_result"
    }
   ],
   "source": [
    "# Add Passing rates to school summary dataframe\n",
    "school_summary_df[\"% Passing Reading\"] = per_school_passing_reading\n",
    "school_summary_df.head(3)"
   ]
  },
  {
   "cell_type": "markdown",
   "metadata": {},
   "source": [
    "#### % Passing Both"
   ]
  },
  {
   "cell_type": "code",
   "execution_count": 170,
   "metadata": {},
   "outputs": [
    {
     "data": {
      "text/plain": [
       "0    53.513884\n",
       "dtype: float64"
      ]
     },
     "execution_count": 170,
     "metadata": {},
     "output_type": "execute_result"
    }
   ],
   "source": [
    "# Use the provided code to calculate the passing rates\n",
    "overall_passing_rate = school_summary_df[\"students_passing_both\"] / school_summary_df[\"total_students\"] * 100\n",
    "overall_passing_rate.head(1)"
   ]
  },
  {
   "cell_type": "code",
   "execution_count": 171,
   "metadata": {},
   "outputs": [
    {
     "data": {
      "text/html": [
       "<div>\n",
       "<style scoped>\n",
       "    .dataframe tbody tr th:only-of-type {\n",
       "        vertical-align: middle;\n",
       "    }\n",
       "\n",
       "    .dataframe tbody tr th {\n",
       "        vertical-align: top;\n",
       "    }\n",
       "\n",
       "    .dataframe thead th {\n",
       "        text-align: right;\n",
       "    }\n",
       "</style>\n",
       "<table border=\"1\" class=\"dataframe\">\n",
       "  <thead>\n",
       "    <tr style=\"text-align: right;\">\n",
       "      <th></th>\n",
       "      <th>school_name</th>\n",
       "      <th>type</th>\n",
       "      <th>total_students</th>\n",
       "      <th>budget</th>\n",
       "      <th>budget_per_capita</th>\n",
       "      <th>avg_math_score</th>\n",
       "      <th>avg_reading_score</th>\n",
       "      <th>students_passing_math</th>\n",
       "      <th>students_passing_reading</th>\n",
       "      <th>students_passing_both</th>\n",
       "      <th>% Passing Math</th>\n",
       "      <th>% Passing Reading</th>\n",
       "      <th>% Passing Both</th>\n",
       "    </tr>\n",
       "  </thead>\n",
       "  <tbody>\n",
       "    <tr>\n",
       "      <th>0</th>\n",
       "      <td>Huang High School</td>\n",
       "      <td>District</td>\n",
       "      <td>2917</td>\n",
       "      <td>1910635</td>\n",
       "      <td>655.0</td>\n",
       "      <td>76.629414</td>\n",
       "      <td>81.182722</td>\n",
       "      <td>1916</td>\n",
       "      <td>2372</td>\n",
       "      <td>1561</td>\n",
       "      <td>65.683922</td>\n",
       "      <td>81.316421</td>\n",
       "      <td>53.513884</td>\n",
       "    </tr>\n",
       "    <tr>\n",
       "      <th>1</th>\n",
       "      <td>Figueroa High School</td>\n",
       "      <td>District</td>\n",
       "      <td>2949</td>\n",
       "      <td>1884411</td>\n",
       "      <td>639.0</td>\n",
       "      <td>76.711767</td>\n",
       "      <td>81.158020</td>\n",
       "      <td>1946</td>\n",
       "      <td>2381</td>\n",
       "      <td>1569</td>\n",
       "      <td>65.988471</td>\n",
       "      <td>80.739234</td>\n",
       "      <td>53.204476</td>\n",
       "    </tr>\n",
       "    <tr>\n",
       "      <th>2</th>\n",
       "      <td>Shelton High School</td>\n",
       "      <td>Charter</td>\n",
       "      <td>1761</td>\n",
       "      <td>1056600</td>\n",
       "      <td>600.0</td>\n",
       "      <td>83.359455</td>\n",
       "      <td>83.725724</td>\n",
       "      <td>1653</td>\n",
       "      <td>1688</td>\n",
       "      <td>1583</td>\n",
       "      <td>93.867121</td>\n",
       "      <td>95.854628</td>\n",
       "      <td>89.892107</td>\n",
       "    </tr>\n",
       "  </tbody>\n",
       "</table>\n",
       "</div>"
      ],
      "text/plain": [
       "            school_name      type  total_students   budget  budget_per_capita  \\\n",
       "0     Huang High School  District            2917  1910635              655.0   \n",
       "1  Figueroa High School  District            2949  1884411              639.0   \n",
       "2   Shelton High School   Charter            1761  1056600              600.0   \n",
       "\n",
       "   avg_math_score  avg_reading_score  students_passing_math  \\\n",
       "0       76.629414          81.182722                   1916   \n",
       "1       76.711767          81.158020                   1946   \n",
       "2       83.359455          83.725724                   1653   \n",
       "\n",
       "   students_passing_reading  students_passing_both  % Passing Math  \\\n",
       "0                      2372                   1561       65.683922   \n",
       "1                      2381                   1569       65.988471   \n",
       "2                      1688                   1583       93.867121   \n",
       "\n",
       "   % Passing Reading  % Passing Both  \n",
       "0          81.316421       53.513884  \n",
       "1          80.739234       53.204476  \n",
       "2          95.854628       89.892107  "
      ]
     },
     "execution_count": 171,
     "metadata": {},
     "output_type": "execute_result"
    }
   ],
   "source": [
    "# Add Passing rates to school summary dataframe\n",
    "school_summary_df[\"% Passing Both\"] = overall_passing_rate\n",
    "school_summary_df.head(3)"
   ]
  },
  {
   "cell_type": "markdown",
   "metadata": {},
   "source": [
    "#### Summary Dataframe"
   ]
  },
  {
   "cell_type": "code",
   "execution_count": 172,
   "metadata": {
    "scrolled": true
   },
   "outputs": [
    {
     "data": {
      "text/html": [
       "<div>\n",
       "<style scoped>\n",
       "    .dataframe tbody tr th:only-of-type {\n",
       "        vertical-align: middle;\n",
       "    }\n",
       "\n",
       "    .dataframe tbody tr th {\n",
       "        vertical-align: top;\n",
       "    }\n",
       "\n",
       "    .dataframe thead th {\n",
       "        text-align: right;\n",
       "    }\n",
       "</style>\n",
       "<table border=\"1\" class=\"dataframe\">\n",
       "  <thead>\n",
       "    <tr style=\"text-align: right;\">\n",
       "      <th></th>\n",
       "      <th>School Name</th>\n",
       "      <th>School Type</th>\n",
       "      <th>Total Students</th>\n",
       "      <th>School Budget</th>\n",
       "      <th>Budget Per Student</th>\n",
       "      <th>Average Math Score</th>\n",
       "      <th>Average Reading Score</th>\n",
       "      <th>Students Passing Math</th>\n",
       "      <th>Students Passing Reading</th>\n",
       "      <th>Students Passing Both</th>\n",
       "      <th>% Passing Math</th>\n",
       "      <th>% Passing Reading</th>\n",
       "      <th>% Passing Both</th>\n",
       "    </tr>\n",
       "  </thead>\n",
       "  <tbody>\n",
       "    <tr>\n",
       "      <th>0</th>\n",
       "      <td>Huang High School</td>\n",
       "      <td>District</td>\n",
       "      <td>2917</td>\n",
       "      <td>1910635</td>\n",
       "      <td>655.0</td>\n",
       "      <td>76.629414</td>\n",
       "      <td>81.182722</td>\n",
       "      <td>1916</td>\n",
       "      <td>2372</td>\n",
       "      <td>1561</td>\n",
       "      <td>65.683922</td>\n",
       "      <td>81.316421</td>\n",
       "      <td>53.513884</td>\n",
       "    </tr>\n",
       "  </tbody>\n",
       "</table>\n",
       "</div>"
      ],
      "text/plain": [
       "         School Name School Type  Total Students  School Budget  \\\n",
       "0  Huang High School    District            2917        1910635   \n",
       "\n",
       "   Budget Per Student  Average Math Score  Average Reading Score  \\\n",
       "0               655.0           76.629414              81.182722   \n",
       "\n",
       "   Students Passing Math  Students Passing Reading  Students Passing Both  \\\n",
       "0                   1916                      2372                   1561   \n",
       "\n",
       "   % Passing Math  % Passing Reading  % Passing Both  \n",
       "0       65.683922          81.316421       53.513884  "
      ]
     },
     "execution_count": 172,
     "metadata": {},
     "output_type": "execute_result"
    }
   ],
   "source": [
    "#Retitle Columns in Summary Dataframe\n",
    "# Create a DataFrame called `per_school_summary` with columns for the calculations above.\n",
    "per_school_summary_df=school_summary_df.rename(columns = {\"school_name\":\"School Name\",\n",
    "                                                      \"type\":\"School Type\",\n",
    "                                                      \"total_students\":\"Total Students\",\n",
    "                                                      \"budget\":\"School Budget\",\n",
    "                                                      \"budget_per_capita\":\"Budget Per Student\",\n",
    "                                                      \"avg_math_score\":\"Average Math Score\",\n",
    "                                                      \"avg_reading_score\":\"Average Reading Score\",\n",
    "                                                      \"students_passing_math\":\"Students Passing Math\",\n",
    "                                                      \"students_passing_reading\":\"Students Passing Reading\",\n",
    "                                                      \"students_passing_both\":\"Students Passing Both\"\n",
    "})\n",
    "per_school_summary_df.head(1)"
   ]
  },
  {
   "cell_type": "code",
   "execution_count": 173,
   "metadata": {},
   "outputs": [],
   "source": [
    "#Copy without formatting for future math\n",
    "per_school_sum_B4_df=per_school_summary_df.copy()"
   ]
  },
  {
   "cell_type": "code",
   "execution_count": 174,
   "metadata": {},
   "outputs": [],
   "source": [
    "# Formatting\n",
    "per_school_summary_df[\"Total Students\"] = per_school_summary_df[\"Total Students\"].map(\"{:,}\".format)\n",
    "per_school_summary_df[\"School Budget\"] = per_school_summary_df[\"School Budget\"].map(\"${:,.2f}\".format)\n",
    "per_school_summary_df[\"Budget Per Student\"] = per_school_summary_df[\"Budget Per Student\"].map(\"${:,.2f}\".format)\n",
    "per_school_summary_df[\"Average Math Score\"] = per_school_summary_df[\"Average Math Score\"].map(\"%{:.2f}\".format)\n",
    "per_school_summary_df[\"Average Reading Score\"] = per_school_summary_df[\"Average Reading Score\"].map(\"%{:.2f}\".format)\n",
    "per_school_summary_df[\"Students Passing Math\"] = per_school_summary_df[\"Students Passing Math\"].map(\"{:,}\".format)\n",
    "per_school_summary_df[\"Students Passing Reading\"] = per_school_summary_df[\"Students Passing Reading\"].map(\"{:,}\".format)\n",
    "per_school_summary_df[\"Students Passing Both\"] = per_school_summary_df[\"Students Passing Both\"].map(\"{:,}\".format)\n",
    "per_school_summary_df[\"% Passing Math\"] = per_school_summary_df[\"% Passing Math\"].map(\"%{:.2f}\".format)\n",
    "per_school_summary_df[\"% Passing Reading\"] = per_school_summary_df[\"% Passing Reading\"].map(\"%{:.2f}\".format)\n",
    "per_school_summary_df[\"% Passing Both\"] = per_school_summary_df[\"% Passing Both\"].map(\"%{:.2f}\".format)"
   ]
  },
  {
   "cell_type": "code",
   "execution_count": 175,
   "metadata": {},
   "outputs": [
    {
     "data": {
      "text/html": [
       "<div>\n",
       "<style scoped>\n",
       "    .dataframe tbody tr th:only-of-type {\n",
       "        vertical-align: middle;\n",
       "    }\n",
       "\n",
       "    .dataframe tbody tr th {\n",
       "        vertical-align: top;\n",
       "    }\n",
       "\n",
       "    .dataframe thead th {\n",
       "        text-align: right;\n",
       "    }\n",
       "</style>\n",
       "<table border=\"1\" class=\"dataframe\">\n",
       "  <thead>\n",
       "    <tr style=\"text-align: right;\">\n",
       "      <th></th>\n",
       "      <th>School Name</th>\n",
       "      <th>School Type</th>\n",
       "      <th>Total Students</th>\n",
       "      <th>School Budget</th>\n",
       "      <th>Budget Per Student</th>\n",
       "      <th>Average Math Score</th>\n",
       "      <th>Average Reading Score</th>\n",
       "      <th>Students Passing Math</th>\n",
       "      <th>Students Passing Reading</th>\n",
       "      <th>Students Passing Both</th>\n",
       "      <th>% Passing Math</th>\n",
       "      <th>% Passing Reading</th>\n",
       "      <th>% Passing Both</th>\n",
       "    </tr>\n",
       "  </thead>\n",
       "  <tbody>\n",
       "    <tr>\n",
       "      <th>0</th>\n",
       "      <td>Huang High School</td>\n",
       "      <td>District</td>\n",
       "      <td>2,917</td>\n",
       "      <td>$1,910,635.00</td>\n",
       "      <td>$655.00</td>\n",
       "      <td>%76.63</td>\n",
       "      <td>%81.18</td>\n",
       "      <td>1,916</td>\n",
       "      <td>2,372</td>\n",
       "      <td>1,561</td>\n",
       "      <td>%65.68</td>\n",
       "      <td>%81.32</td>\n",
       "      <td>%53.51</td>\n",
       "    </tr>\n",
       "    <tr>\n",
       "      <th>1</th>\n",
       "      <td>Figueroa High School</td>\n",
       "      <td>District</td>\n",
       "      <td>2,949</td>\n",
       "      <td>$1,884,411.00</td>\n",
       "      <td>$639.00</td>\n",
       "      <td>%76.71</td>\n",
       "      <td>%81.16</td>\n",
       "      <td>1,946</td>\n",
       "      <td>2,381</td>\n",
       "      <td>1,569</td>\n",
       "      <td>%65.99</td>\n",
       "      <td>%80.74</td>\n",
       "      <td>%53.20</td>\n",
       "    </tr>\n",
       "    <tr>\n",
       "      <th>2</th>\n",
       "      <td>Shelton High School</td>\n",
       "      <td>Charter</td>\n",
       "      <td>1,761</td>\n",
       "      <td>$1,056,600.00</td>\n",
       "      <td>$600.00</td>\n",
       "      <td>%83.36</td>\n",
       "      <td>%83.73</td>\n",
       "      <td>1,653</td>\n",
       "      <td>1,688</td>\n",
       "      <td>1,583</td>\n",
       "      <td>%93.87</td>\n",
       "      <td>%95.85</td>\n",
       "      <td>%89.89</td>\n",
       "    </tr>\n",
       "    <tr>\n",
       "      <th>3</th>\n",
       "      <td>Hernandez High School</td>\n",
       "      <td>District</td>\n",
       "      <td>4,635</td>\n",
       "      <td>$3,022,020.00</td>\n",
       "      <td>$652.00</td>\n",
       "      <td>%77.29</td>\n",
       "      <td>%80.93</td>\n",
       "      <td>3,094</td>\n",
       "      <td>3,748</td>\n",
       "      <td>2,481</td>\n",
       "      <td>%66.75</td>\n",
       "      <td>%80.86</td>\n",
       "      <td>%53.53</td>\n",
       "    </tr>\n",
       "    <tr>\n",
       "      <th>4</th>\n",
       "      <td>Griffin High School</td>\n",
       "      <td>Charter</td>\n",
       "      <td>1,468</td>\n",
       "      <td>$917,500.00</td>\n",
       "      <td>$625.00</td>\n",
       "      <td>%83.35</td>\n",
       "      <td>%83.82</td>\n",
       "      <td>1,371</td>\n",
       "      <td>1,426</td>\n",
       "      <td>1,330</td>\n",
       "      <td>%93.39</td>\n",
       "      <td>%97.14</td>\n",
       "      <td>%90.60</td>\n",
       "    </tr>\n",
       "  </tbody>\n",
       "</table>\n",
       "</div>"
      ],
      "text/plain": [
       "             School Name School Type Total Students  School Budget  \\\n",
       "0      Huang High School    District          2,917  $1,910,635.00   \n",
       "1   Figueroa High School    District          2,949  $1,884,411.00   \n",
       "2    Shelton High School     Charter          1,761  $1,056,600.00   \n",
       "3  Hernandez High School    District          4,635  $3,022,020.00   \n",
       "4    Griffin High School     Charter          1,468    $917,500.00   \n",
       "\n",
       "  Budget Per Student Average Math Score Average Reading Score  \\\n",
       "0            $655.00             %76.63                %81.18   \n",
       "1            $639.00             %76.71                %81.16   \n",
       "2            $600.00             %83.36                %83.73   \n",
       "3            $652.00             %77.29                %80.93   \n",
       "4            $625.00             %83.35                %83.82   \n",
       "\n",
       "  Students Passing Math Students Passing Reading Students Passing Both  \\\n",
       "0                 1,916                    2,372                 1,561   \n",
       "1                 1,946                    2,381                 1,569   \n",
       "2                 1,653                    1,688                 1,583   \n",
       "3                 3,094                    3,748                 2,481   \n",
       "4                 1,371                    1,426                 1,330   \n",
       "\n",
       "  % Passing Math % Passing Reading % Passing Both  \n",
       "0         %65.68            %81.32         %53.51  \n",
       "1         %65.99            %80.74         %53.20  \n",
       "2         %93.87            %95.85         %89.89  \n",
       "3         %66.75            %80.86         %53.53  \n",
       "4         %93.39            %97.14         %90.60  "
      ]
     },
     "execution_count": 175,
     "metadata": {},
     "output_type": "execute_result"
    }
   ],
   "source": [
    "# Display results\n",
    "per_school_summary_df.head()"
   ]
  },
  {
   "cell_type": "markdown",
   "metadata": {},
   "source": [
    "#### Highest-Performing Schools (by % Overall Passing)"
   ]
  },
  {
   "cell_type": "code",
   "execution_count": 176,
   "metadata": {},
   "outputs": [
    {
     "data": {
      "text/html": [
       "<div>\n",
       "<style scoped>\n",
       "    .dataframe tbody tr th:only-of-type {\n",
       "        vertical-align: middle;\n",
       "    }\n",
       "\n",
       "    .dataframe tbody tr th {\n",
       "        vertical-align: top;\n",
       "    }\n",
       "\n",
       "    .dataframe thead th {\n",
       "        text-align: right;\n",
       "    }\n",
       "</style>\n",
       "<table border=\"1\" class=\"dataframe\">\n",
       "  <thead>\n",
       "    <tr style=\"text-align: right;\">\n",
       "      <th></th>\n",
       "      <th>School Name</th>\n",
       "      <th>School Type</th>\n",
       "      <th>Total Students</th>\n",
       "      <th>School Budget</th>\n",
       "      <th>Budget Per Student</th>\n",
       "      <th>Average Math Score</th>\n",
       "      <th>Average Reading Score</th>\n",
       "      <th>Students Passing Math</th>\n",
       "      <th>Students Passing Reading</th>\n",
       "      <th>Students Passing Both</th>\n",
       "      <th>% Passing Math</th>\n",
       "      <th>% Passing Reading</th>\n",
       "      <th>% Passing Both</th>\n",
       "    </tr>\n",
       "  </thead>\n",
       "  <tbody>\n",
       "    <tr>\n",
       "      <th>6</th>\n",
       "      <td>Cabrera High School</td>\n",
       "      <td>Charter</td>\n",
       "      <td>1,858</td>\n",
       "      <td>$1,081,356.00</td>\n",
       "      <td>$582.00</td>\n",
       "      <td>%83.06</td>\n",
       "      <td>%83.98</td>\n",
       "      <td>1,749</td>\n",
       "      <td>1,803</td>\n",
       "      <td>1,697</td>\n",
       "      <td>%94.13</td>\n",
       "      <td>%97.04</td>\n",
       "      <td>%91.33</td>\n",
       "    </tr>\n",
       "    <tr>\n",
       "      <th>14</th>\n",
       "      <td>Thomas High School</td>\n",
       "      <td>Charter</td>\n",
       "      <td>1,635</td>\n",
       "      <td>$1,043,130.00</td>\n",
       "      <td>$638.00</td>\n",
       "      <td>%83.42</td>\n",
       "      <td>%83.85</td>\n",
       "      <td>1,525</td>\n",
       "      <td>1,591</td>\n",
       "      <td>1,487</td>\n",
       "      <td>%93.27</td>\n",
       "      <td>%97.31</td>\n",
       "      <td>%90.95</td>\n",
       "    </tr>\n",
       "    <tr>\n",
       "      <th>4</th>\n",
       "      <td>Griffin High School</td>\n",
       "      <td>Charter</td>\n",
       "      <td>1,468</td>\n",
       "      <td>$917,500.00</td>\n",
       "      <td>$625.00</td>\n",
       "      <td>%83.35</td>\n",
       "      <td>%83.82</td>\n",
       "      <td>1,371</td>\n",
       "      <td>1,426</td>\n",
       "      <td>1,330</td>\n",
       "      <td>%93.39</td>\n",
       "      <td>%97.14</td>\n",
       "      <td>%90.60</td>\n",
       "    </tr>\n",
       "    <tr>\n",
       "      <th>5</th>\n",
       "      <td>Wilson High School</td>\n",
       "      <td>Charter</td>\n",
       "      <td>2,283</td>\n",
       "      <td>$1,319,574.00</td>\n",
       "      <td>$578.00</td>\n",
       "      <td>%83.27</td>\n",
       "      <td>%83.99</td>\n",
       "      <td>2,143</td>\n",
       "      <td>2,204</td>\n",
       "      <td>2,068</td>\n",
       "      <td>%93.87</td>\n",
       "      <td>%96.54</td>\n",
       "      <td>%90.58</td>\n",
       "    </tr>\n",
       "    <tr>\n",
       "      <th>9</th>\n",
       "      <td>Pena High School</td>\n",
       "      <td>Charter</td>\n",
       "      <td>962</td>\n",
       "      <td>$585,858.00</td>\n",
       "      <td>$609.00</td>\n",
       "      <td>%83.84</td>\n",
       "      <td>%84.04</td>\n",
       "      <td>910</td>\n",
       "      <td>923</td>\n",
       "      <td>871</td>\n",
       "      <td>%94.59</td>\n",
       "      <td>%95.95</td>\n",
       "      <td>%90.54</td>\n",
       "    </tr>\n",
       "  </tbody>\n",
       "</table>\n",
       "</div>"
      ],
      "text/plain": [
       "            School Name School Type Total Students  School Budget  \\\n",
       "6   Cabrera High School     Charter          1,858  $1,081,356.00   \n",
       "14   Thomas High School     Charter          1,635  $1,043,130.00   \n",
       "4   Griffin High School     Charter          1,468    $917,500.00   \n",
       "5    Wilson High School     Charter          2,283  $1,319,574.00   \n",
       "9      Pena High School     Charter            962    $585,858.00   \n",
       "\n",
       "   Budget Per Student Average Math Score Average Reading Score  \\\n",
       "6             $582.00             %83.06                %83.98   \n",
       "14            $638.00             %83.42                %83.85   \n",
       "4             $625.00             %83.35                %83.82   \n",
       "5             $578.00             %83.27                %83.99   \n",
       "9             $609.00             %83.84                %84.04   \n",
       "\n",
       "   Students Passing Math Students Passing Reading Students Passing Both  \\\n",
       "6                  1,749                    1,803                 1,697   \n",
       "14                 1,525                    1,591                 1,487   \n",
       "4                  1,371                    1,426                 1,330   \n",
       "5                  2,143                    2,204                 2,068   \n",
       "9                    910                      923                   871   \n",
       "\n",
       "   % Passing Math % Passing Reading % Passing Both  \n",
       "6          %94.13            %97.04         %91.33  \n",
       "14         %93.27            %97.31         %90.95  \n",
       "4          %93.39            %97.14         %90.60  \n",
       "5          %93.87            %96.54         %90.58  \n",
       "9          %94.59            %95.95         %90.54  "
      ]
     },
     "execution_count": 176,
     "metadata": {},
     "output_type": "execute_result"
    }
   ],
   "source": [
    "# Sort the schools by `% Overall Passing` in descending order and display the top 5 rows.\n",
    "top_schools_df = per_school_summary_df.sort_values(\"% Passing Both\", ascending = False)\n",
    "top_schools_df.head(5)"
   ]
  },
  {
   "cell_type": "markdown",
   "metadata": {},
   "source": [
    "#### Bottom Performing Schools (By % Overall Passing)"
   ]
  },
  {
   "cell_type": "code",
   "execution_count": 177,
   "metadata": {},
   "outputs": [
    {
     "data": {
      "text/html": [
       "<div>\n",
       "<style scoped>\n",
       "    .dataframe tbody tr th:only-of-type {\n",
       "        vertical-align: middle;\n",
       "    }\n",
       "\n",
       "    .dataframe tbody tr th {\n",
       "        vertical-align: top;\n",
       "    }\n",
       "\n",
       "    .dataframe thead th {\n",
       "        text-align: right;\n",
       "    }\n",
       "</style>\n",
       "<table border=\"1\" class=\"dataframe\">\n",
       "  <thead>\n",
       "    <tr style=\"text-align: right;\">\n",
       "      <th></th>\n",
       "      <th>School Name</th>\n",
       "      <th>School Type</th>\n",
       "      <th>Total Students</th>\n",
       "      <th>School Budget</th>\n",
       "      <th>Budget Per Student</th>\n",
       "      <th>Average Math Score</th>\n",
       "      <th>Average Reading Score</th>\n",
       "      <th>Students Passing Math</th>\n",
       "      <th>Students Passing Reading</th>\n",
       "      <th>Students Passing Both</th>\n",
       "      <th>% Passing Math</th>\n",
       "      <th>% Passing Reading</th>\n",
       "      <th>% Passing Both</th>\n",
       "    </tr>\n",
       "  </thead>\n",
       "  <tbody>\n",
       "    <tr>\n",
       "      <th>11</th>\n",
       "      <td>Rodriguez High School</td>\n",
       "      <td>District</td>\n",
       "      <td>3,999</td>\n",
       "      <td>$2,547,363.00</td>\n",
       "      <td>$637.00</td>\n",
       "      <td>%76.84</td>\n",
       "      <td>%80.74</td>\n",
       "      <td>2,654</td>\n",
       "      <td>3,208</td>\n",
       "      <td>2,119</td>\n",
       "      <td>%66.37</td>\n",
       "      <td>%80.22</td>\n",
       "      <td>%52.99</td>\n",
       "    </tr>\n",
       "    <tr>\n",
       "      <th>1</th>\n",
       "      <td>Figueroa High School</td>\n",
       "      <td>District</td>\n",
       "      <td>2,949</td>\n",
       "      <td>$1,884,411.00</td>\n",
       "      <td>$639.00</td>\n",
       "      <td>%76.71</td>\n",
       "      <td>%81.16</td>\n",
       "      <td>1,946</td>\n",
       "      <td>2,381</td>\n",
       "      <td>1,569</td>\n",
       "      <td>%65.99</td>\n",
       "      <td>%80.74</td>\n",
       "      <td>%53.20</td>\n",
       "    </tr>\n",
       "    <tr>\n",
       "      <th>0</th>\n",
       "      <td>Huang High School</td>\n",
       "      <td>District</td>\n",
       "      <td>2,917</td>\n",
       "      <td>$1,910,635.00</td>\n",
       "      <td>$655.00</td>\n",
       "      <td>%76.63</td>\n",
       "      <td>%81.18</td>\n",
       "      <td>1,916</td>\n",
       "      <td>2,372</td>\n",
       "      <td>1,561</td>\n",
       "      <td>%65.68</td>\n",
       "      <td>%81.32</td>\n",
       "      <td>%53.51</td>\n",
       "    </tr>\n",
       "    <tr>\n",
       "      <th>3</th>\n",
       "      <td>Hernandez High School</td>\n",
       "      <td>District</td>\n",
       "      <td>4,635</td>\n",
       "      <td>$3,022,020.00</td>\n",
       "      <td>$652.00</td>\n",
       "      <td>%77.29</td>\n",
       "      <td>%80.93</td>\n",
       "      <td>3,094</td>\n",
       "      <td>3,748</td>\n",
       "      <td>2,481</td>\n",
       "      <td>%66.75</td>\n",
       "      <td>%80.86</td>\n",
       "      <td>%53.53</td>\n",
       "    </tr>\n",
       "    <tr>\n",
       "      <th>12</th>\n",
       "      <td>Johnson High School</td>\n",
       "      <td>District</td>\n",
       "      <td>4,761</td>\n",
       "      <td>$3,094,650.00</td>\n",
       "      <td>$650.00</td>\n",
       "      <td>%77.07</td>\n",
       "      <td>%80.97</td>\n",
       "      <td>3,145</td>\n",
       "      <td>3,867</td>\n",
       "      <td>2,549</td>\n",
       "      <td>%66.06</td>\n",
       "      <td>%81.22</td>\n",
       "      <td>%53.54</td>\n",
       "    </tr>\n",
       "  </tbody>\n",
       "</table>\n",
       "</div>"
      ],
      "text/plain": [
       "              School Name School Type Total Students  School Budget  \\\n",
       "11  Rodriguez High School    District          3,999  $2,547,363.00   \n",
       "1    Figueroa High School    District          2,949  $1,884,411.00   \n",
       "0       Huang High School    District          2,917  $1,910,635.00   \n",
       "3   Hernandez High School    District          4,635  $3,022,020.00   \n",
       "12    Johnson High School    District          4,761  $3,094,650.00   \n",
       "\n",
       "   Budget Per Student Average Math Score Average Reading Score  \\\n",
       "11            $637.00             %76.84                %80.74   \n",
       "1             $639.00             %76.71                %81.16   \n",
       "0             $655.00             %76.63                %81.18   \n",
       "3             $652.00             %77.29                %80.93   \n",
       "12            $650.00             %77.07                %80.97   \n",
       "\n",
       "   Students Passing Math Students Passing Reading Students Passing Both  \\\n",
       "11                 2,654                    3,208                 2,119   \n",
       "1                  1,946                    2,381                 1,569   \n",
       "0                  1,916                    2,372                 1,561   \n",
       "3                  3,094                    3,748                 2,481   \n",
       "12                 3,145                    3,867                 2,549   \n",
       "\n",
       "   % Passing Math % Passing Reading % Passing Both  \n",
       "11         %66.37            %80.22         %52.99  \n",
       "1          %65.99            %80.74         %53.20  \n",
       "0          %65.68            %81.32         %53.51  \n",
       "3          %66.75            %80.86         %53.53  \n",
       "12         %66.06            %81.22         %53.54  "
      ]
     },
     "execution_count": 177,
     "metadata": {},
     "output_type": "execute_result"
    }
   ],
   "source": [
    "# Sort the schools by `% Overall Passing` in ascending order and display the top 5 rows.\n",
    "bottom_schools_df = per_school_summary_df.sort_values(\"% Passing Both\", ascending = True)\n",
    "bottom_schools_df.head(5)"
   ]
  },
  {
   "cell_type": "markdown",
   "metadata": {},
   "source": [
    "#### Math Scores by Grade"
   ]
  },
  {
   "cell_type": "code",
   "execution_count": 178,
   "metadata": {},
   "outputs": [],
   "source": [
    "# Use the code provided to separate the data by grade\n",
    "ninth_graders_df = combined_school_df[(combined_school_df[\"grade\"] == \"9th\")]\n",
    "tenth_graders_df = combined_school_df[(combined_school_df[\"grade\"] == \"10th\")]\n",
    "eleventh_graders_df = combined_school_df[(combined_school_df[\"grade\"] == \"11th\")]\n",
    "twelfth_graders_df = combined_school_df[(combined_school_df[\"grade\"] == \"12th\")]"
   ]
  },
  {
   "cell_type": "code",
   "execution_count": 179,
   "metadata": {},
   "outputs": [],
   "source": [
    "# Group by `school_name` and take the mean of the `math_score` column for each.\n",
    "ninth_grade_math_scores_df = ninth_graders_df.groupby([\"school_name\"])[\"math_score\"].mean()\n",
    "tenth_grader_math_scores_df = tenth_graders_df.groupby([\"school_name\"])[\"math_score\"].mean()\n",
    "eleventh_grader_math_scores_df = eleventh_graders_df.groupby([\"school_name\"])[\"math_score\"].mean()\n",
    "twelfth_grader_math_scores_df = twelfth_graders_df.groupby([\"school_name\"])[\"math_score\"].mean()"
   ]
  },
  {
   "cell_type": "code",
   "execution_count": 180,
   "metadata": {},
   "outputs": [
    {
     "data": {
      "text/html": [
       "<div>\n",
       "<style scoped>\n",
       "    .dataframe tbody tr th:only-of-type {\n",
       "        vertical-align: middle;\n",
       "    }\n",
       "\n",
       "    .dataframe tbody tr th {\n",
       "        vertical-align: top;\n",
       "    }\n",
       "\n",
       "    .dataframe thead th {\n",
       "        text-align: right;\n",
       "    }\n",
       "</style>\n",
       "<table border=\"1\" class=\"dataframe\">\n",
       "  <thead>\n",
       "    <tr style=\"text-align: right;\">\n",
       "      <th></th>\n",
       "      <th>9th</th>\n",
       "      <th>10th</th>\n",
       "      <th>11th</th>\n",
       "      <th>12th</th>\n",
       "    </tr>\n",
       "    <tr>\n",
       "      <th>school_name</th>\n",
       "      <th></th>\n",
       "      <th></th>\n",
       "      <th></th>\n",
       "      <th></th>\n",
       "    </tr>\n",
       "  </thead>\n",
       "  <tbody>\n",
       "    <tr>\n",
       "      <th>Bailey High School</th>\n",
       "      <td>77.083676</td>\n",
       "      <td>76.996772</td>\n",
       "      <td>77.515588</td>\n",
       "      <td>76.492218</td>\n",
       "    </tr>\n",
       "  </tbody>\n",
       "</table>\n",
       "</div>"
      ],
      "text/plain": [
       "                          9th       10th       11th       12th\n",
       "school_name                                                   \n",
       "Bailey High School  77.083676  76.996772  77.515588  76.492218"
      ]
     },
     "execution_count": 180,
     "metadata": {},
     "output_type": "execute_result"
    }
   ],
   "source": [
    "# Combine each of the scores above into single DataFrame called `math_scores_by_grade`\n",
    "math_scores_by_grade_df = pd.DataFrame (ninth_grade_math_scores_df)\n",
    "math_scores_by_grade_df = math_scores_by_grade_df.rename (columns = {\"math_score\":\"9th\"})\n",
    "math_scores_by_grade_df = pd.merge(math_scores_by_grade_df, tenth_grader_math_scores_df, how=\"left\", on=[\"school_name\"])\n",
    "math_scores_by_grade_df = math_scores_by_grade_df.rename (columns = {\"math_score\":\"10th\"})\n",
    "math_scores_by_grade_df = pd.merge(math_scores_by_grade_df, eleventh_grader_math_scores_df, how=\"left\", on=[\"school_name\"])\n",
    "math_scores_by_grade_df = math_scores_by_grade_df.rename (columns = {\"math_score\":\"11th\"})\n",
    "math_scores_by_grade_df = pd.merge(math_scores_by_grade_df, twelfth_grader_math_scores_df, how=\"left\", on=[\"school_name\"])\n",
    "math_scores_by_grade_df = math_scores_by_grade_df.rename (columns = {\"math_score\":\"12th\"})\n",
    "math_scores_by_grade_df.head(1)"
   ]
  },
  {
   "cell_type": "code",
   "execution_count": 181,
   "metadata": {
    "scrolled": true
   },
   "outputs": [],
   "source": [
    "#Formatting\n",
    "math_scores_by_grade_df[\"9th\"] = math_scores_by_grade_df[\"9th\"].map(\"%{:.2f}\".format)\n",
    "math_scores_by_grade_df[\"10th\"] = math_scores_by_grade_df[\"10th\"].map(\"%{:.2f}\".format)\n",
    "math_scores_by_grade_df[\"11th\"] = math_scores_by_grade_df[\"11th\"].map(\"%{:.2f}\".format)\n",
    "math_scores_by_grade_df[\"12th\"] = math_scores_by_grade_df[\"12th\"].map(\"%{:.2f}\".format)\n",
    "math_scores_by_grade_df.index.name = None"
   ]
  },
  {
   "cell_type": "code",
   "execution_count": 182,
   "metadata": {},
   "outputs": [
    {
     "data": {
      "text/html": [
       "<div>\n",
       "<style scoped>\n",
       "    .dataframe tbody tr th:only-of-type {\n",
       "        vertical-align: middle;\n",
       "    }\n",
       "\n",
       "    .dataframe tbody tr th {\n",
       "        vertical-align: top;\n",
       "    }\n",
       "\n",
       "    .dataframe thead th {\n",
       "        text-align: right;\n",
       "    }\n",
       "</style>\n",
       "<table border=\"1\" class=\"dataframe\">\n",
       "  <thead>\n",
       "    <tr style=\"text-align: right;\">\n",
       "      <th></th>\n",
       "      <th>9th</th>\n",
       "      <th>10th</th>\n",
       "      <th>11th</th>\n",
       "      <th>12th</th>\n",
       "    </tr>\n",
       "  </thead>\n",
       "  <tbody>\n",
       "    <tr>\n",
       "      <th>Bailey High School</th>\n",
       "      <td>%77.08</td>\n",
       "      <td>%77.00</td>\n",
       "      <td>%77.52</td>\n",
       "      <td>%76.49</td>\n",
       "    </tr>\n",
       "    <tr>\n",
       "      <th>Cabrera High School</th>\n",
       "      <td>%83.09</td>\n",
       "      <td>%83.15</td>\n",
       "      <td>%82.77</td>\n",
       "      <td>%83.28</td>\n",
       "    </tr>\n",
       "    <tr>\n",
       "      <th>Figueroa High School</th>\n",
       "      <td>%76.40</td>\n",
       "      <td>%76.54</td>\n",
       "      <td>%76.88</td>\n",
       "      <td>%77.15</td>\n",
       "    </tr>\n",
       "    <tr>\n",
       "      <th>Ford High School</th>\n",
       "      <td>%77.36</td>\n",
       "      <td>%77.67</td>\n",
       "      <td>%76.92</td>\n",
       "      <td>%76.18</td>\n",
       "    </tr>\n",
       "    <tr>\n",
       "      <th>Griffin High School</th>\n",
       "      <td>%82.04</td>\n",
       "      <td>%84.23</td>\n",
       "      <td>%83.84</td>\n",
       "      <td>%83.36</td>\n",
       "    </tr>\n",
       "    <tr>\n",
       "      <th>Hernandez High School</th>\n",
       "      <td>%77.44</td>\n",
       "      <td>%77.34</td>\n",
       "      <td>%77.14</td>\n",
       "      <td>%77.19</td>\n",
       "    </tr>\n",
       "    <tr>\n",
       "      <th>Holden High School</th>\n",
       "      <td>%83.79</td>\n",
       "      <td>%83.43</td>\n",
       "      <td>%85.00</td>\n",
       "      <td>%82.86</td>\n",
       "    </tr>\n",
       "    <tr>\n",
       "      <th>Huang High School</th>\n",
       "      <td>%77.03</td>\n",
       "      <td>%75.91</td>\n",
       "      <td>%76.45</td>\n",
       "      <td>%77.23</td>\n",
       "    </tr>\n",
       "    <tr>\n",
       "      <th>Johnson High School</th>\n",
       "      <td>%77.19</td>\n",
       "      <td>%76.69</td>\n",
       "      <td>%77.49</td>\n",
       "      <td>%76.86</td>\n",
       "    </tr>\n",
       "    <tr>\n",
       "      <th>Pena High School</th>\n",
       "      <td>%83.63</td>\n",
       "      <td>%83.37</td>\n",
       "      <td>%84.33</td>\n",
       "      <td>%84.12</td>\n",
       "    </tr>\n",
       "    <tr>\n",
       "      <th>Rodriguez High School</th>\n",
       "      <td>%76.86</td>\n",
       "      <td>%76.61</td>\n",
       "      <td>%76.40</td>\n",
       "      <td>%77.69</td>\n",
       "    </tr>\n",
       "    <tr>\n",
       "      <th>Shelton High School</th>\n",
       "      <td>%83.42</td>\n",
       "      <td>%82.92</td>\n",
       "      <td>%83.38</td>\n",
       "      <td>%83.78</td>\n",
       "    </tr>\n",
       "    <tr>\n",
       "      <th>Thomas High School</th>\n",
       "      <td>%83.59</td>\n",
       "      <td>%83.09</td>\n",
       "      <td>%83.50</td>\n",
       "      <td>%83.50</td>\n",
       "    </tr>\n",
       "    <tr>\n",
       "      <th>Wilson High School</th>\n",
       "      <td>%83.09</td>\n",
       "      <td>%83.72</td>\n",
       "      <td>%83.20</td>\n",
       "      <td>%83.04</td>\n",
       "    </tr>\n",
       "    <tr>\n",
       "      <th>Wright High School</th>\n",
       "      <td>%83.26</td>\n",
       "      <td>%84.01</td>\n",
       "      <td>%83.84</td>\n",
       "      <td>%83.64</td>\n",
       "    </tr>\n",
       "  </tbody>\n",
       "</table>\n",
       "</div>"
      ],
      "text/plain": [
       "                          9th    10th    11th    12th\n",
       "Bailey High School     %77.08  %77.00  %77.52  %76.49\n",
       "Cabrera High School    %83.09  %83.15  %82.77  %83.28\n",
       "Figueroa High School   %76.40  %76.54  %76.88  %77.15\n",
       "Ford High School       %77.36  %77.67  %76.92  %76.18\n",
       "Griffin High School    %82.04  %84.23  %83.84  %83.36\n",
       "Hernandez High School  %77.44  %77.34  %77.14  %77.19\n",
       "Holden High School     %83.79  %83.43  %85.00  %82.86\n",
       "Huang High School      %77.03  %75.91  %76.45  %77.23\n",
       "Johnson High School    %77.19  %76.69  %77.49  %76.86\n",
       "Pena High School       %83.63  %83.37  %84.33  %84.12\n",
       "Rodriguez High School  %76.86  %76.61  %76.40  %77.69\n",
       "Shelton High School    %83.42  %82.92  %83.38  %83.78\n",
       "Thomas High School     %83.59  %83.09  %83.50  %83.50\n",
       "Wilson High School     %83.09  %83.72  %83.20  %83.04\n",
       "Wright High School     %83.26  %84.01  %83.84  %83.64"
      ]
     },
     "execution_count": 182,
     "metadata": {},
     "output_type": "execute_result"
    }
   ],
   "source": [
    "# Display results\n",
    "math_scores_by_grade_df"
   ]
  },
  {
   "cell_type": "markdown",
   "metadata": {},
   "source": [
    "#### Reading Scores by Grade"
   ]
  },
  {
   "cell_type": "code",
   "execution_count": 183,
   "metadata": {},
   "outputs": [],
   "source": [
    "# Use the code provided to separate the data by grade\n",
    "ninth_graders_df = combined_school_df[(combined_school_df[\"grade\"] == \"9th\")]\n",
    "tenth_graders_df = combined_school_df[(combined_school_df[\"grade\"] == \"10th\")]\n",
    "eleventh_graders_df = combined_school_df[(combined_school_df[\"grade\"] == \"11th\")]\n",
    "twelfth_graders_df = combined_school_df[(combined_school_df[\"grade\"] == \"12th\")]"
   ]
  },
  {
   "cell_type": "code",
   "execution_count": 184,
   "metadata": {},
   "outputs": [],
   "source": [
    "# Group by `school_name` and take the mean of the `math_score` column for each.\n",
    "ninth_grader_reading_scores_df = ninth_graders_df.groupby([\"school_name\"])[\"reading_score\"].mean()\n",
    "tenth_grader_reading_scores_df = tenth_graders_df.groupby([\"school_name\"])[\"reading_score\"].mean()\n",
    "eleventh_grader_reading_scores_df = eleventh_graders_df.groupby([\"school_name\"])[\"reading_score\"].mean()\n",
    "twelfth_grader_reading_scores_df = twelfth_graders_df.groupby([\"school_name\"])[\"reading_score\"].mean()"
   ]
  },
  {
   "cell_type": "code",
   "execution_count": 185,
   "metadata": {},
   "outputs": [
    {
     "data": {
      "text/html": [
       "<div>\n",
       "<style scoped>\n",
       "    .dataframe tbody tr th:only-of-type {\n",
       "        vertical-align: middle;\n",
       "    }\n",
       "\n",
       "    .dataframe tbody tr th {\n",
       "        vertical-align: top;\n",
       "    }\n",
       "\n",
       "    .dataframe thead th {\n",
       "        text-align: right;\n",
       "    }\n",
       "</style>\n",
       "<table border=\"1\" class=\"dataframe\">\n",
       "  <thead>\n",
       "    <tr style=\"text-align: right;\">\n",
       "      <th></th>\n",
       "      <th>9th</th>\n",
       "      <th>10th</th>\n",
       "      <th>11th</th>\n",
       "      <th>12th</th>\n",
       "    </tr>\n",
       "    <tr>\n",
       "      <th>school_name</th>\n",
       "      <th></th>\n",
       "      <th></th>\n",
       "      <th></th>\n",
       "      <th></th>\n",
       "    </tr>\n",
       "  </thead>\n",
       "  <tbody>\n",
       "    <tr>\n",
       "      <th>Bailey High School</th>\n",
       "      <td>81.303155</td>\n",
       "      <td>80.907183</td>\n",
       "      <td>80.945643</td>\n",
       "      <td>80.912451</td>\n",
       "    </tr>\n",
       "  </tbody>\n",
       "</table>\n",
       "</div>"
      ],
      "text/plain": [
       "                          9th       10th       11th       12th\n",
       "school_name                                                   \n",
       "Bailey High School  81.303155  80.907183  80.945643  80.912451"
      ]
     },
     "execution_count": 185,
     "metadata": {},
     "output_type": "execute_result"
    }
   ],
   "source": [
    "# Combine each of the scores above into single DataFrame called `math_scores_by_grade`\n",
    "reading_scores_by_grade_df = pd.DataFrame (ninth_grader_reading_scores_df)\n",
    "reading_scores_by_grade_df = reading_scores_by_grade_df.rename (columns = {\"reading_score\":\"9th\"})\n",
    "reading_scores_by_grade_df = pd.merge(reading_scores_by_grade_df, tenth_grader_reading_scores_df, how=\"left\", on=[\"school_name\"])\n",
    "reading_scores_by_grade_df = reading_scores_by_grade_df.rename (columns = {\"reading_score\":\"10th\"})\n",
    "reading_scores_by_grade_df = pd.merge(reading_scores_by_grade_df, eleventh_grader_reading_scores_df, how=\"left\", on=[\"school_name\"])\n",
    "reading_scores_by_grade_df = reading_scores_by_grade_df.rename (columns = {\"reading_score\":\"11th\"})\n",
    "reading_scores_by_grade_df = pd.merge(reading_scores_by_grade_df, twelfth_grader_reading_scores_df, how=\"left\", on=[\"school_name\"])\n",
    "reading_scores_by_grade_df = reading_scores_by_grade_df.rename (columns = {\"reading_score\":\"12th\"})\n",
    "reading_scores_by_grade_df.head(1)"
   ]
  },
  {
   "cell_type": "code",
   "execution_count": 186,
   "metadata": {},
   "outputs": [],
   "source": [
    "#Formatting\n",
    "reading_scores_by_grade_df[\"9th\"] = reading_scores_by_grade_df[\"9th\"].map(\"%{:.2f}\".format)\n",
    "reading_scores_by_grade_df[\"10th\"] = reading_scores_by_grade_df[\"10th\"].map(\"%{:.2f}\".format)\n",
    "reading_scores_by_grade_df[\"11th\"] = reading_scores_by_grade_df[\"11th\"].map(\"%{:.2f}\".format)\n",
    "reading_scores_by_grade_df[\"12th\"] = reading_scores_by_grade_df[\"12th\"].map(\"%{:.2f}\".format)\n",
    "reading_scores_by_grade_df.index.name = None"
   ]
  },
  {
   "cell_type": "code",
   "execution_count": 187,
   "metadata": {},
   "outputs": [
    {
     "data": {
      "text/html": [
       "<div>\n",
       "<style scoped>\n",
       "    .dataframe tbody tr th:only-of-type {\n",
       "        vertical-align: middle;\n",
       "    }\n",
       "\n",
       "    .dataframe tbody tr th {\n",
       "        vertical-align: top;\n",
       "    }\n",
       "\n",
       "    .dataframe thead th {\n",
       "        text-align: right;\n",
       "    }\n",
       "</style>\n",
       "<table border=\"1\" class=\"dataframe\">\n",
       "  <thead>\n",
       "    <tr style=\"text-align: right;\">\n",
       "      <th></th>\n",
       "      <th>9th</th>\n",
       "      <th>10th</th>\n",
       "      <th>11th</th>\n",
       "      <th>12th</th>\n",
       "    </tr>\n",
       "  </thead>\n",
       "  <tbody>\n",
       "    <tr>\n",
       "      <th>Bailey High School</th>\n",
       "      <td>%81.30</td>\n",
       "      <td>%80.91</td>\n",
       "      <td>%80.95</td>\n",
       "      <td>%80.91</td>\n",
       "    </tr>\n",
       "    <tr>\n",
       "      <th>Cabrera High School</th>\n",
       "      <td>%83.68</td>\n",
       "      <td>%84.25</td>\n",
       "      <td>%83.79</td>\n",
       "      <td>%84.29</td>\n",
       "    </tr>\n",
       "    <tr>\n",
       "      <th>Figueroa High School</th>\n",
       "      <td>%81.20</td>\n",
       "      <td>%81.41</td>\n",
       "      <td>%80.64</td>\n",
       "      <td>%81.38</td>\n",
       "    </tr>\n",
       "    <tr>\n",
       "      <th>Ford High School</th>\n",
       "      <td>%80.63</td>\n",
       "      <td>%81.26</td>\n",
       "      <td>%80.40</td>\n",
       "      <td>%80.66</td>\n",
       "    </tr>\n",
       "    <tr>\n",
       "      <th>Griffin High School</th>\n",
       "      <td>%83.37</td>\n",
       "      <td>%83.71</td>\n",
       "      <td>%84.29</td>\n",
       "      <td>%84.01</td>\n",
       "    </tr>\n",
       "    <tr>\n",
       "      <th>Hernandez High School</th>\n",
       "      <td>%80.87</td>\n",
       "      <td>%80.66</td>\n",
       "      <td>%81.40</td>\n",
       "      <td>%80.86</td>\n",
       "    </tr>\n",
       "    <tr>\n",
       "      <th>Holden High School</th>\n",
       "      <td>%83.68</td>\n",
       "      <td>%83.32</td>\n",
       "      <td>%83.82</td>\n",
       "      <td>%84.70</td>\n",
       "    </tr>\n",
       "    <tr>\n",
       "      <th>Huang High School</th>\n",
       "      <td>%81.29</td>\n",
       "      <td>%81.51</td>\n",
       "      <td>%81.42</td>\n",
       "      <td>%80.31</td>\n",
       "    </tr>\n",
       "    <tr>\n",
       "      <th>Johnson High School</th>\n",
       "      <td>%81.26</td>\n",
       "      <td>%80.77</td>\n",
       "      <td>%80.62</td>\n",
       "      <td>%81.23</td>\n",
       "    </tr>\n",
       "    <tr>\n",
       "      <th>Pena High School</th>\n",
       "      <td>%83.81</td>\n",
       "      <td>%83.61</td>\n",
       "      <td>%84.34</td>\n",
       "      <td>%84.59</td>\n",
       "    </tr>\n",
       "    <tr>\n",
       "      <th>Rodriguez High School</th>\n",
       "      <td>%80.99</td>\n",
       "      <td>%80.63</td>\n",
       "      <td>%80.86</td>\n",
       "      <td>%80.38</td>\n",
       "    </tr>\n",
       "    <tr>\n",
       "      <th>Shelton High School</th>\n",
       "      <td>%84.12</td>\n",
       "      <td>%83.44</td>\n",
       "      <td>%84.37</td>\n",
       "      <td>%82.78</td>\n",
       "    </tr>\n",
       "    <tr>\n",
       "      <th>Thomas High School</th>\n",
       "      <td>%83.73</td>\n",
       "      <td>%84.25</td>\n",
       "      <td>%83.59</td>\n",
       "      <td>%83.83</td>\n",
       "    </tr>\n",
       "    <tr>\n",
       "      <th>Wilson High School</th>\n",
       "      <td>%83.94</td>\n",
       "      <td>%84.02</td>\n",
       "      <td>%83.76</td>\n",
       "      <td>%84.32</td>\n",
       "    </tr>\n",
       "    <tr>\n",
       "      <th>Wright High School</th>\n",
       "      <td>%83.83</td>\n",
       "      <td>%83.81</td>\n",
       "      <td>%84.16</td>\n",
       "      <td>%84.07</td>\n",
       "    </tr>\n",
       "  </tbody>\n",
       "</table>\n",
       "</div>"
      ],
      "text/plain": [
       "                          9th    10th    11th    12th\n",
       "Bailey High School     %81.30  %80.91  %80.95  %80.91\n",
       "Cabrera High School    %83.68  %84.25  %83.79  %84.29\n",
       "Figueroa High School   %81.20  %81.41  %80.64  %81.38\n",
       "Ford High School       %80.63  %81.26  %80.40  %80.66\n",
       "Griffin High School    %83.37  %83.71  %84.29  %84.01\n",
       "Hernandez High School  %80.87  %80.66  %81.40  %80.86\n",
       "Holden High School     %83.68  %83.32  %83.82  %84.70\n",
       "Huang High School      %81.29  %81.51  %81.42  %80.31\n",
       "Johnson High School    %81.26  %80.77  %80.62  %81.23\n",
       "Pena High School       %83.81  %83.61  %84.34  %84.59\n",
       "Rodriguez High School  %80.99  %80.63  %80.86  %80.38\n",
       "Shelton High School    %84.12  %83.44  %84.37  %82.78\n",
       "Thomas High School     %83.73  %84.25  %83.59  %83.83\n",
       "Wilson High School     %83.94  %84.02  %83.76  %84.32\n",
       "Wright High School     %83.83  %83.81  %84.16  %84.07"
      ]
     },
     "execution_count": 187,
     "metadata": {},
     "output_type": "execute_result"
    }
   ],
   "source": [
    "# Display results\n",
    "reading_scores_by_grade_df"
   ]
  },
  {
   "cell_type": "markdown",
   "metadata": {},
   "source": [
    "#### Scores by School Spending"
   ]
  },
  {
   "cell_type": "code",
   "execution_count": 188,
   "metadata": {},
   "outputs": [],
   "source": [
    "# Establish the bins \n",
    "spending_bins = [0, 585, 630, 645, 680]\n",
    "spending_labels = [\"<$585\", \"$585-630\", \"$630-645\", \"$645-680\"]"
   ]
  },
  {
   "cell_type": "code",
   "execution_count": 189,
   "metadata": {},
   "outputs": [
    {
     "data": {
      "text/html": [
       "<div>\n",
       "<style scoped>\n",
       "    .dataframe tbody tr th:only-of-type {\n",
       "        vertical-align: middle;\n",
       "    }\n",
       "\n",
       "    .dataframe tbody tr th {\n",
       "        vertical-align: top;\n",
       "    }\n",
       "\n",
       "    .dataframe thead th {\n",
       "        text-align: right;\n",
       "    }\n",
       "</style>\n",
       "<table border=\"1\" class=\"dataframe\">\n",
       "  <thead>\n",
       "    <tr style=\"text-align: right;\">\n",
       "      <th></th>\n",
       "      <th>School Name</th>\n",
       "      <th>School Type</th>\n",
       "      <th>Total Students</th>\n",
       "      <th>School Budget</th>\n",
       "      <th>Budget Per Student</th>\n",
       "      <th>Average Math Score</th>\n",
       "      <th>Average Reading Score</th>\n",
       "      <th>Students Passing Math</th>\n",
       "      <th>Students Passing Reading</th>\n",
       "      <th>Students Passing Both</th>\n",
       "      <th>% Passing Math</th>\n",
       "      <th>% Passing Reading</th>\n",
       "      <th>% Passing Both</th>\n",
       "    </tr>\n",
       "  </thead>\n",
       "  <tbody>\n",
       "    <tr>\n",
       "      <th>0</th>\n",
       "      <td>Huang High School</td>\n",
       "      <td>District</td>\n",
       "      <td>2917</td>\n",
       "      <td>1910635</td>\n",
       "      <td>655.0</td>\n",
       "      <td>76.629414</td>\n",
       "      <td>81.182722</td>\n",
       "      <td>1916</td>\n",
       "      <td>2372</td>\n",
       "      <td>1561</td>\n",
       "      <td>65.683922</td>\n",
       "      <td>81.316421</td>\n",
       "      <td>53.513884</td>\n",
       "    </tr>\n",
       "  </tbody>\n",
       "</table>\n",
       "</div>"
      ],
      "text/plain": [
       "         School Name School Type  Total Students  School Budget  \\\n",
       "0  Huang High School    District            2917        1910635   \n",
       "\n",
       "   Budget Per Student  Average Math Score  Average Reading Score  \\\n",
       "0               655.0           76.629414              81.182722   \n",
       "\n",
       "   Students Passing Math  Students Passing Reading  Students Passing Both  \\\n",
       "0                   1916                      2372                   1561   \n",
       "\n",
       "   % Passing Math  % Passing Reading  % Passing Both  \n",
       "0       65.683922          81.316421       53.513884  "
      ]
     },
     "execution_count": 189,
     "metadata": {},
     "output_type": "execute_result"
    }
   ],
   "source": [
    "# Create a copy of the school summary since it has the \"Per Student Budget\" \n",
    "school_spending_df = per_school_sum_B4_df.copy()\n",
    "school_spending_df.head(1)"
   ]
  },
  {
   "cell_type": "code",
   "execution_count": 190,
   "metadata": {},
   "outputs": [
    {
     "data": {
      "text/html": [
       "<div>\n",
       "<style scoped>\n",
       "    .dataframe tbody tr th:only-of-type {\n",
       "        vertical-align: middle;\n",
       "    }\n",
       "\n",
       "    .dataframe tbody tr th {\n",
       "        vertical-align: top;\n",
       "    }\n",
       "\n",
       "    .dataframe thead th {\n",
       "        text-align: right;\n",
       "    }\n",
       "</style>\n",
       "<table border=\"1\" class=\"dataframe\">\n",
       "  <thead>\n",
       "    <tr style=\"text-align: right;\">\n",
       "      <th></th>\n",
       "      <th>School Name</th>\n",
       "      <th>School Type</th>\n",
       "      <th>Total Students</th>\n",
       "      <th>School Budget</th>\n",
       "      <th>Budget Per Student</th>\n",
       "      <th>Average Math Score</th>\n",
       "      <th>Average Reading Score</th>\n",
       "      <th>Students Passing Math</th>\n",
       "      <th>Students Passing Reading</th>\n",
       "      <th>Students Passing Both</th>\n",
       "      <th>% Passing Math</th>\n",
       "      <th>% Passing Reading</th>\n",
       "      <th>% Passing Both</th>\n",
       "      <th>Spending Ranges (Per Student)</th>\n",
       "    </tr>\n",
       "  </thead>\n",
       "  <tbody>\n",
       "    <tr>\n",
       "      <th>0</th>\n",
       "      <td>Huang High School</td>\n",
       "      <td>District</td>\n",
       "      <td>2917</td>\n",
       "      <td>1910635</td>\n",
       "      <td>655.0</td>\n",
       "      <td>76.629414</td>\n",
       "      <td>81.182722</td>\n",
       "      <td>1916</td>\n",
       "      <td>2372</td>\n",
       "      <td>1561</td>\n",
       "      <td>65.683922</td>\n",
       "      <td>81.316421</td>\n",
       "      <td>53.513884</td>\n",
       "      <td>$645-680</td>\n",
       "    </tr>\n",
       "  </tbody>\n",
       "</table>\n",
       "</div>"
      ],
      "text/plain": [
       "         School Name School Type  Total Students  School Budget  \\\n",
       "0  Huang High School    District            2917        1910635   \n",
       "\n",
       "   Budget Per Student  Average Math Score  Average Reading Score  \\\n",
       "0               655.0           76.629414              81.182722   \n",
       "\n",
       "   Students Passing Math  Students Passing Reading  Students Passing Both  \\\n",
       "0                   1916                      2372                   1561   \n",
       "\n",
       "   % Passing Math  % Passing Reading  % Passing Both  \\\n",
       "0       65.683922          81.316421       53.513884   \n",
       "\n",
       "  Spending Ranges (Per Student)  \n",
       "0                      $645-680  "
      ]
     },
     "execution_count": 190,
     "metadata": {},
     "output_type": "execute_result"
    }
   ],
   "source": [
    "# Use `pd.cut` to categorize spending based on the bins.\n",
    "school_spending_df[\"Spending Ranges (Per Student)\"] = pd.cut(school_spending_df[\"Budget Per Student\"], spending_bins, labels = spending_labels)\n",
    "school_spending_df.head(1)"
   ]
  },
  {
   "cell_type": "code",
   "execution_count": 191,
   "metadata": {},
   "outputs": [],
   "source": [
    "#  Calculate averages for the desired columns.\n",
    "spending_math_scores = school_spending_df.groupby([\"Spending Ranges (Per Student)\"])[\"Average Math Score\"].mean()\n",
    "spending_reading_scores = school_spending_df.groupby([\"Spending Ranges (Per Student)\"])[\"Average Reading Score\"].mean()\n",
    "spending_passing_math = school_spending_df.groupby([\"Spending Ranges (Per Student)\"])[\"% Passing Math\"].mean()\n",
    "spending_passing_reading = school_spending_df.groupby([\"Spending Ranges (Per Student)\"])[\"% Passing Reading\"].mean()\n",
    "overall_passing_spending = school_spending_df.groupby([\"Spending Ranges (Per Student)\"])[\"% Passing Both\"].mean()"
   ]
  },
  {
   "cell_type": "code",
   "execution_count": 192,
   "metadata": {},
   "outputs": [
    {
     "data": {
      "text/html": [
       "<div>\n",
       "<style scoped>\n",
       "    .dataframe tbody tr th:only-of-type {\n",
       "        vertical-align: middle;\n",
       "    }\n",
       "\n",
       "    .dataframe tbody tr th {\n",
       "        vertical-align: top;\n",
       "    }\n",
       "\n",
       "    .dataframe thead th {\n",
       "        text-align: right;\n",
       "    }\n",
       "</style>\n",
       "<table border=\"1\" class=\"dataframe\">\n",
       "  <thead>\n",
       "    <tr style=\"text-align: right;\">\n",
       "      <th></th>\n",
       "      <th>Average Math Score</th>\n",
       "      <th>Average Reading Score</th>\n",
       "      <th>% Passing Math</th>\n",
       "      <th>% Passing Reading</th>\n",
       "      <th>% Passing Both</th>\n",
       "    </tr>\n",
       "    <tr>\n",
       "      <th>Spending Ranges (Per Student)</th>\n",
       "      <th></th>\n",
       "      <th></th>\n",
       "      <th></th>\n",
       "      <th></th>\n",
       "      <th></th>\n",
       "    </tr>\n",
       "  </thead>\n",
       "  <tbody>\n",
       "    <tr>\n",
       "      <th>&lt;$585</th>\n",
       "      <td>83.455399</td>\n",
       "      <td>83.933814</td>\n",
       "      <td>93.460096</td>\n",
       "      <td>96.610877</td>\n",
       "      <td>90.369459</td>\n",
       "    </tr>\n",
       "  </tbody>\n",
       "</table>\n",
       "</div>"
      ],
      "text/plain": [
       "                               Average Math Score  Average Reading Score  \\\n",
       "Spending Ranges (Per Student)                                              \n",
       "<$585                                   83.455399              83.933814   \n",
       "\n",
       "                               % Passing Math  % Passing Reading  \\\n",
       "Spending Ranges (Per Student)                                      \n",
       "<$585                               93.460096          96.610877   \n",
       "\n",
       "                               % Passing Both  \n",
       "Spending Ranges (Per Student)                  \n",
       "<$585                               90.369459  "
      ]
     },
     "execution_count": 192,
     "metadata": {},
     "output_type": "execute_result"
    }
   ],
   "source": [
    "# Assemble into DataFrame\n",
    "spending_summary_df = pd.DataFrame(spending_math_scores)\n",
    "spending_summary_df = pd.merge(spending_summary_df, spending_reading_scores, how=\"left\", on=[\"Spending Ranges (Per Student)\"])\n",
    "spending_summary_df = pd.merge(spending_summary_df, spending_passing_math, how=\"left\", on=[\"Spending Ranges (Per Student)\"])\n",
    "spending_summary_df = pd.merge(spending_summary_df, spending_passing_reading, how=\"left\", on=[\"Spending Ranges (Per Student)\"])\n",
    "spending_summary_df = pd.merge(spending_summary_df, overall_passing_spending, how=\"left\", on=[\"Spending Ranges (Per Student)\"])\n",
    "spending_summary_df.head(1)"
   ]
  },
  {
   "cell_type": "code",
   "execution_count": 193,
   "metadata": {},
   "outputs": [],
   "source": [
    "#Formatting\n",
    "spending_summary_df[\"Average Math Score\"] = spending_summary_df[\"Average Math Score\"].map(\"%{:.2f}\".format)\n",
    "spending_summary_df[\"Average Reading Score\"] = spending_summary_df[\"Average Reading Score\"].map(\"%{:.2f}\".format)\n",
    "spending_summary_df[\"% Passing Math\"] = spending_summary_df[\"% Passing Math\"].map(\"%{:.2f}\".format)\n",
    "spending_summary_df[\"% Passing Reading\"] = spending_summary_df[\"% Passing Reading\"].map(\"%{:.2f}\".format)\n",
    "spending_summary_df[\"% Passing Both\"] = spending_summary_df[\"% Passing Both\"].map(\"%{:.2f}\".format)"
   ]
  },
  {
   "cell_type": "code",
   "execution_count": 194,
   "metadata": {},
   "outputs": [
    {
     "data": {
      "text/html": [
       "<div>\n",
       "<style scoped>\n",
       "    .dataframe tbody tr th:only-of-type {\n",
       "        vertical-align: middle;\n",
       "    }\n",
       "\n",
       "    .dataframe tbody tr th {\n",
       "        vertical-align: top;\n",
       "    }\n",
       "\n",
       "    .dataframe thead th {\n",
       "        text-align: right;\n",
       "    }\n",
       "</style>\n",
       "<table border=\"1\" class=\"dataframe\">\n",
       "  <thead>\n",
       "    <tr style=\"text-align: right;\">\n",
       "      <th></th>\n",
       "      <th>Average Math Score</th>\n",
       "      <th>Average Reading Score</th>\n",
       "      <th>% Passing Math</th>\n",
       "      <th>% Passing Reading</th>\n",
       "      <th>% Passing Both</th>\n",
       "    </tr>\n",
       "    <tr>\n",
       "      <th>Spending Ranges (Per Student)</th>\n",
       "      <th></th>\n",
       "      <th></th>\n",
       "      <th></th>\n",
       "      <th></th>\n",
       "      <th></th>\n",
       "    </tr>\n",
       "  </thead>\n",
       "  <tbody>\n",
       "    <tr>\n",
       "      <th>&lt;$585</th>\n",
       "      <td>%83.46</td>\n",
       "      <td>%83.93</td>\n",
       "      <td>%93.46</td>\n",
       "      <td>%96.61</td>\n",
       "      <td>%90.37</td>\n",
       "    </tr>\n",
       "    <tr>\n",
       "      <th>$585-630</th>\n",
       "      <td>%81.90</td>\n",
       "      <td>%83.16</td>\n",
       "      <td>%87.13</td>\n",
       "      <td>%92.72</td>\n",
       "      <td>%81.42</td>\n",
       "    </tr>\n",
       "    <tr>\n",
       "      <th>$630-645</th>\n",
       "      <td>%78.52</td>\n",
       "      <td>%81.62</td>\n",
       "      <td>%73.48</td>\n",
       "      <td>%84.39</td>\n",
       "      <td>%62.86</td>\n",
       "    </tr>\n",
       "    <tr>\n",
       "      <th>$645-680</th>\n",
       "      <td>%77.00</td>\n",
       "      <td>%81.03</td>\n",
       "      <td>%66.16</td>\n",
       "      <td>%81.13</td>\n",
       "      <td>%53.53</td>\n",
       "    </tr>\n",
       "  </tbody>\n",
       "</table>\n",
       "</div>"
      ],
      "text/plain": [
       "                              Average Math Score Average Reading Score  \\\n",
       "Spending Ranges (Per Student)                                            \n",
       "<$585                                     %83.46                %83.93   \n",
       "$585-630                                  %81.90                %83.16   \n",
       "$630-645                                  %78.52                %81.62   \n",
       "$645-680                                  %77.00                %81.03   \n",
       "\n",
       "                              % Passing Math % Passing Reading % Passing Both  \n",
       "Spending Ranges (Per Student)                                                  \n",
       "<$585                                 %93.46            %96.61         %90.37  \n",
       "$585-630                              %87.13            %92.72         %81.42  \n",
       "$630-645                              %73.48            %84.39         %62.86  \n",
       "$645-680                              %66.16            %81.13         %53.53  "
      ]
     },
     "execution_count": 194,
     "metadata": {},
     "output_type": "execute_result"
    }
   ],
   "source": [
    "# Display results\n",
    "spending_summary_df"
   ]
  },
  {
   "cell_type": "markdown",
   "metadata": {},
   "source": [
    "#### Scores by School Size"
   ]
  },
  {
   "cell_type": "code",
   "execution_count": 195,
   "metadata": {},
   "outputs": [],
   "source": [
    "# Establish the bins.\n",
    "size_bins = [0, 1000, 2000, 5000]\n",
    "size_labels = [\"Small (<1,000)\", \"Medium (1,000-2,000)\", \"Large (2,000-5,000)\"]"
   ]
  },
  {
   "cell_type": "code",
   "execution_count": 196,
   "metadata": {},
   "outputs": [
    {
     "data": {
      "text/html": [
       "<div>\n",
       "<style scoped>\n",
       "    .dataframe tbody tr th:only-of-type {\n",
       "        vertical-align: middle;\n",
       "    }\n",
       "\n",
       "    .dataframe tbody tr th {\n",
       "        vertical-align: top;\n",
       "    }\n",
       "\n",
       "    .dataframe thead th {\n",
       "        text-align: right;\n",
       "    }\n",
       "</style>\n",
       "<table border=\"1\" class=\"dataframe\">\n",
       "  <thead>\n",
       "    <tr style=\"text-align: right;\">\n",
       "      <th></th>\n",
       "      <th>School Name</th>\n",
       "      <th>School Type</th>\n",
       "      <th>Total Students</th>\n",
       "      <th>School Budget</th>\n",
       "      <th>Budget Per Student</th>\n",
       "      <th>Average Math Score</th>\n",
       "      <th>Average Reading Score</th>\n",
       "      <th>Students Passing Math</th>\n",
       "      <th>Students Passing Reading</th>\n",
       "      <th>Students Passing Both</th>\n",
       "      <th>% Passing Math</th>\n",
       "      <th>% Passing Reading</th>\n",
       "      <th>% Passing Both</th>\n",
       "    </tr>\n",
       "  </thead>\n",
       "  <tbody>\n",
       "    <tr>\n",
       "      <th>0</th>\n",
       "      <td>Huang High School</td>\n",
       "      <td>District</td>\n",
       "      <td>2917</td>\n",
       "      <td>1910635</td>\n",
       "      <td>655.0</td>\n",
       "      <td>76.629414</td>\n",
       "      <td>81.182722</td>\n",
       "      <td>1916</td>\n",
       "      <td>2372</td>\n",
       "      <td>1561</td>\n",
       "      <td>65.683922</td>\n",
       "      <td>81.316421</td>\n",
       "      <td>53.513884</td>\n",
       "    </tr>\n",
       "  </tbody>\n",
       "</table>\n",
       "</div>"
      ],
      "text/plain": [
       "         School Name School Type  Total Students  School Budget  \\\n",
       "0  Huang High School    District            2917        1910635   \n",
       "\n",
       "   Budget Per Student  Average Math Score  Average Reading Score  \\\n",
       "0               655.0           76.629414              81.182722   \n",
       "\n",
       "   Students Passing Math  Students Passing Reading  Students Passing Both  \\\n",
       "0                   1916                      2372                   1561   \n",
       "\n",
       "   % Passing Math  % Passing Reading  % Passing Both  \n",
       "0       65.683922          81.316421       53.513884  "
      ]
     },
     "execution_count": 196,
     "metadata": {},
     "output_type": "execute_result"
    }
   ],
   "source": [
    "# Create a copy of the school summary \n",
    "school_size_df = per_school_sum_B4_df.copy()\n",
    "school_size_df.head(1)"
   ]
  },
  {
   "cell_type": "code",
   "execution_count": 197,
   "metadata": {},
   "outputs": [
    {
     "data": {
      "text/html": [
       "<div>\n",
       "<style scoped>\n",
       "    .dataframe tbody tr th:only-of-type {\n",
       "        vertical-align: middle;\n",
       "    }\n",
       "\n",
       "    .dataframe tbody tr th {\n",
       "        vertical-align: top;\n",
       "    }\n",
       "\n",
       "    .dataframe thead th {\n",
       "        text-align: right;\n",
       "    }\n",
       "</style>\n",
       "<table border=\"1\" class=\"dataframe\">\n",
       "  <thead>\n",
       "    <tr style=\"text-align: right;\">\n",
       "      <th></th>\n",
       "      <th>School Name</th>\n",
       "      <th>School Type</th>\n",
       "      <th>Total Students</th>\n",
       "      <th>School Budget</th>\n",
       "      <th>Budget Per Student</th>\n",
       "      <th>Average Math Score</th>\n",
       "      <th>Average Reading Score</th>\n",
       "      <th>Students Passing Math</th>\n",
       "      <th>Students Passing Reading</th>\n",
       "      <th>Students Passing Both</th>\n",
       "      <th>% Passing Math</th>\n",
       "      <th>% Passing Reading</th>\n",
       "      <th>% Passing Both</th>\n",
       "      <th>School Size</th>\n",
       "    </tr>\n",
       "  </thead>\n",
       "  <tbody>\n",
       "    <tr>\n",
       "      <th>0</th>\n",
       "      <td>Huang High School</td>\n",
       "      <td>District</td>\n",
       "      <td>2917</td>\n",
       "      <td>1910635</td>\n",
       "      <td>655.0</td>\n",
       "      <td>76.629414</td>\n",
       "      <td>81.182722</td>\n",
       "      <td>1916</td>\n",
       "      <td>2372</td>\n",
       "      <td>1561</td>\n",
       "      <td>65.683922</td>\n",
       "      <td>81.316421</td>\n",
       "      <td>53.513884</td>\n",
       "      <td>Large (2,000-5,000)</td>\n",
       "    </tr>\n",
       "  </tbody>\n",
       "</table>\n",
       "</div>"
      ],
      "text/plain": [
       "         School Name School Type  Total Students  School Budget  \\\n",
       "0  Huang High School    District            2917        1910635   \n",
       "\n",
       "   Budget Per Student  Average Math Score  Average Reading Score  \\\n",
       "0               655.0           76.629414              81.182722   \n",
       "\n",
       "   Students Passing Math  Students Passing Reading  Students Passing Both  \\\n",
       "0                   1916                      2372                   1561   \n",
       "\n",
       "   % Passing Math  % Passing Reading  % Passing Both          School Size  \n",
       "0       65.683922          81.316421       53.513884  Large (2,000-5,000)  "
      ]
     },
     "execution_count": 197,
     "metadata": {},
     "output_type": "execute_result"
    }
   ],
   "source": [
    "# Categorize the spending based on the bins\n",
    "# Use `pd.cut` on the \"Total Students\" column of the `per_school_summary` DataFrame.\n",
    "\n",
    "school_size_df[\"School Size\"] =pd.cut(school_size_df[\"Total Students\"], size_bins, labels = size_labels)\n",
    "school_size_df.head(1)"
   ]
  },
  {
   "cell_type": "code",
   "execution_count": 198,
   "metadata": {},
   "outputs": [],
   "source": [
    "# Calculate averages for the desired columns. \n",
    "size_math_scores = school_size_df.groupby([\"School Size\"])[\"Average Math Score\"].mean()\n",
    "size_reading_scores = school_size_df.groupby([\"School Size\"])[\"Average Reading Score\"].mean()\n",
    "size_passing_math = school_size_df.groupby([\"School Size\"])[\"% Passing Math\"].mean()\n",
    "size_passing_reading = school_size_df.groupby([\"School Size\"])[\"% Passing Reading\"].mean()\n",
    "size_overall_passing = school_size_df.groupby([\"School Size\"])[\"% Passing Both\"].mean()"
   ]
  },
  {
   "cell_type": "code",
   "execution_count": 199,
   "metadata": {},
   "outputs": [
    {
     "data": {
      "text/html": [
       "<div>\n",
       "<style scoped>\n",
       "    .dataframe tbody tr th:only-of-type {\n",
       "        vertical-align: middle;\n",
       "    }\n",
       "\n",
       "    .dataframe tbody tr th {\n",
       "        vertical-align: top;\n",
       "    }\n",
       "\n",
       "    .dataframe thead th {\n",
       "        text-align: right;\n",
       "    }\n",
       "</style>\n",
       "<table border=\"1\" class=\"dataframe\">\n",
       "  <thead>\n",
       "    <tr style=\"text-align: right;\">\n",
       "      <th></th>\n",
       "      <th>Average Math Score</th>\n",
       "      <th>Average Reading Score</th>\n",
       "      <th>% Passing Math</th>\n",
       "      <th>% Passing Reading</th>\n",
       "      <th>% Passing Both</th>\n",
       "    </tr>\n",
       "    <tr>\n",
       "      <th>School Size</th>\n",
       "      <th></th>\n",
       "      <th></th>\n",
       "      <th></th>\n",
       "      <th></th>\n",
       "      <th></th>\n",
       "    </tr>\n",
       "  </thead>\n",
       "  <tbody>\n",
       "    <tr>\n",
       "      <th>Small (&lt;1,000)</th>\n",
       "      <td>83.821598</td>\n",
       "      <td>83.929843</td>\n",
       "      <td>93.550225</td>\n",
       "      <td>96.099437</td>\n",
       "      <td>89.883853</td>\n",
       "    </tr>\n",
       "  </tbody>\n",
       "</table>\n",
       "</div>"
      ],
      "text/plain": [
       "                Average Math Score  Average Reading Score  % Passing Math  \\\n",
       "School Size                                                                 \n",
       "Small (<1,000)           83.821598              83.929843       93.550225   \n",
       "\n",
       "                % Passing Reading  % Passing Both  \n",
       "School Size                                        \n",
       "Small (<1,000)          96.099437       89.883853  "
      ]
     },
     "execution_count": 199,
     "metadata": {},
     "output_type": "execute_result"
    }
   ],
   "source": [
    "# Create a DataFrame called `size_summary` that breaks down school performance based on school size (small, medium, or large).\n",
    "# Use the scores above to create a new DataFrame called `size_summary`\n",
    "size_summary_df = pd.DataFrame(size_math_scores)\n",
    "size_summary_df = pd.merge(size_summary_df, size_reading_scores, how=\"left\", on=[\"School Size\"])\n",
    "size_summary_df = pd.merge(size_summary_df, size_passing_math, how=\"left\", on=[\"School Size\"])\n",
    "size_summary_df = pd.merge(size_summary_df, size_passing_reading, how=\"left\", on=[\"School Size\"])\n",
    "size_summary_df = pd.merge(size_summary_df, size_overall_passing, how=\"left\", on=[\"School Size\"])\n",
    "size_summary_df.head(1)"
   ]
  },
  {
   "cell_type": "code",
   "execution_count": 200,
   "metadata": {},
   "outputs": [],
   "source": [
    "#Formatting\n",
    "size_summary_df[\"Average Math Score\"] = size_summary_df[\"Average Math Score\"].map(\"%{:.2f}\".format)\n",
    "size_summary_df[\"Average Reading Score\"] = size_summary_df[\"Average Reading Score\"].map(\"%{:.2f}\".format)\n",
    "size_summary_df[\"% Passing Math\"] = size_summary_df[\"% Passing Math\"].map(\"%{:.2f}\".format)\n",
    "size_summary_df[\"% Passing Reading\"] = size_summary_df[\"% Passing Reading\"].map(\"%{:.2f}\".format)\n",
    "size_summary_df[\"% Passing Both\"] = size_summary_df[\"% Passing Both\"].map(\"%{:.2f}\".format)"
   ]
  },
  {
   "cell_type": "code",
   "execution_count": 201,
   "metadata": {},
   "outputs": [
    {
     "data": {
      "text/html": [
       "<div>\n",
       "<style scoped>\n",
       "    .dataframe tbody tr th:only-of-type {\n",
       "        vertical-align: middle;\n",
       "    }\n",
       "\n",
       "    .dataframe tbody tr th {\n",
       "        vertical-align: top;\n",
       "    }\n",
       "\n",
       "    .dataframe thead th {\n",
       "        text-align: right;\n",
       "    }\n",
       "</style>\n",
       "<table border=\"1\" class=\"dataframe\">\n",
       "  <thead>\n",
       "    <tr style=\"text-align: right;\">\n",
       "      <th></th>\n",
       "      <th>Average Math Score</th>\n",
       "      <th>Average Reading Score</th>\n",
       "      <th>% Passing Math</th>\n",
       "      <th>% Passing Reading</th>\n",
       "      <th>% Passing Both</th>\n",
       "    </tr>\n",
       "    <tr>\n",
       "      <th>School Size</th>\n",
       "      <th></th>\n",
       "      <th></th>\n",
       "      <th></th>\n",
       "      <th></th>\n",
       "      <th></th>\n",
       "    </tr>\n",
       "  </thead>\n",
       "  <tbody>\n",
       "    <tr>\n",
       "      <th>Small (&lt;1,000)</th>\n",
       "      <td>%83.82</td>\n",
       "      <td>%83.93</td>\n",
       "      <td>%93.55</td>\n",
       "      <td>%96.10</td>\n",
       "      <td>%89.88</td>\n",
       "    </tr>\n",
       "    <tr>\n",
       "      <th>Medium (1,000-2,000)</th>\n",
       "      <td>%83.37</td>\n",
       "      <td>%83.86</td>\n",
       "      <td>%93.60</td>\n",
       "      <td>%96.79</td>\n",
       "      <td>%90.62</td>\n",
       "    </tr>\n",
       "    <tr>\n",
       "      <th>Large (2,000-5,000)</th>\n",
       "      <td>%77.75</td>\n",
       "      <td>%81.34</td>\n",
       "      <td>%69.96</td>\n",
       "      <td>%82.77</td>\n",
       "      <td>%58.29</td>\n",
       "    </tr>\n",
       "  </tbody>\n",
       "</table>\n",
       "</div>"
      ],
      "text/plain": [
       "                     Average Math Score Average Reading Score % Passing Math  \\\n",
       "School Size                                                                    \n",
       "Small (<1,000)                   %83.82                %83.93         %93.55   \n",
       "Medium (1,000-2,000)             %83.37                %83.86         %93.60   \n",
       "Large (2,000-5,000)              %77.75                %81.34         %69.96   \n",
       "\n",
       "                     % Passing Reading % Passing Both  \n",
       "School Size                                            \n",
       "Small (<1,000)                  %96.10         %89.88  \n",
       "Medium (1,000-2,000)            %96.79         %90.62  \n",
       "Large (2,000-5,000)             %82.77         %58.29  "
      ]
     },
     "execution_count": 201,
     "metadata": {},
     "output_type": "execute_result"
    }
   ],
   "source": [
    "#Display Results\n",
    "size_summary_df"
   ]
  },
  {
   "cell_type": "markdown",
   "metadata": {},
   "source": [
    "#### Scores by School Type"
   ]
  },
  {
   "cell_type": "code",
   "execution_count": 202,
   "metadata": {},
   "outputs": [
    {
     "data": {
      "text/html": [
       "<div>\n",
       "<style scoped>\n",
       "    .dataframe tbody tr th:only-of-type {\n",
       "        vertical-align: middle;\n",
       "    }\n",
       "\n",
       "    .dataframe tbody tr th {\n",
       "        vertical-align: top;\n",
       "    }\n",
       "\n",
       "    .dataframe thead th {\n",
       "        text-align: right;\n",
       "    }\n",
       "</style>\n",
       "<table border=\"1\" class=\"dataframe\">\n",
       "  <thead>\n",
       "    <tr style=\"text-align: right;\">\n",
       "      <th></th>\n",
       "      <th>School Name</th>\n",
       "      <th>School Type</th>\n",
       "      <th>Total Students</th>\n",
       "      <th>School Budget</th>\n",
       "      <th>Budget Per Student</th>\n",
       "      <th>Average Math Score</th>\n",
       "      <th>Average Reading Score</th>\n",
       "      <th>Students Passing Math</th>\n",
       "      <th>Students Passing Reading</th>\n",
       "      <th>Students Passing Both</th>\n",
       "      <th>% Passing Math</th>\n",
       "      <th>% Passing Reading</th>\n",
       "      <th>% Passing Both</th>\n",
       "    </tr>\n",
       "  </thead>\n",
       "  <tbody>\n",
       "    <tr>\n",
       "      <th>0</th>\n",
       "      <td>Huang High School</td>\n",
       "      <td>District</td>\n",
       "      <td>2917</td>\n",
       "      <td>1910635</td>\n",
       "      <td>655.0</td>\n",
       "      <td>76.629414</td>\n",
       "      <td>81.182722</td>\n",
       "      <td>1916</td>\n",
       "      <td>2372</td>\n",
       "      <td>1561</td>\n",
       "      <td>65.683922</td>\n",
       "      <td>81.316421</td>\n",
       "      <td>53.513884</td>\n",
       "    </tr>\n",
       "  </tbody>\n",
       "</table>\n",
       "</div>"
      ],
      "text/plain": [
       "         School Name School Type  Total Students  School Budget  \\\n",
       "0  Huang High School    District            2917        1910635   \n",
       "\n",
       "   Budget Per Student  Average Math Score  Average Reading Score  \\\n",
       "0               655.0           76.629414              81.182722   \n",
       "\n",
       "   Students Passing Math  Students Passing Reading  Students Passing Both  \\\n",
       "0                   1916                      2372                   1561   \n",
       "\n",
       "   % Passing Math  % Passing Reading  % Passing Both  \n",
       "0       65.683922          81.316421       53.513884  "
      ]
     },
     "execution_count": 202,
     "metadata": {},
     "output_type": "execute_result"
    }
   ],
   "source": [
    "# Create a copy of the school summary \n",
    "school_type_df = per_school_sum_B4_df.copy()\n",
    "school_type_df.head(1)"
   ]
  },
  {
   "cell_type": "code",
   "execution_count": 203,
   "metadata": {},
   "outputs": [],
   "source": [
    "# Group the per_school_summary DataFrame by \"School Type\" and average the results.\n",
    "average_math_score_by_type = school_type_df.groupby([\"School Type\"])[\"Average Math Score\"].mean()\n",
    "average_reading_score_by_type = school_type_df.groupby([\"School Type\"])[\"Average Reading Score\"].mean()\n",
    "average_percent_passing_math_by_type = school_type_df.groupby([\"School Type\"])[\"% Passing Math\"].mean()\n",
    "average_percent_passing_reading_by_type = school_type_df.groupby([\"School Type\"])[\"% Passing Reading\"].mean()\n",
    "average_percent_overall_passing_by_type = school_type_df.groupby([\"School Type\"])[\"% Passing Both\"].mean()"
   ]
  },
  {
   "cell_type": "code",
   "execution_count": 204,
   "metadata": {},
   "outputs": [
    {
     "data": {
      "text/html": [
       "<div>\n",
       "<style scoped>\n",
       "    .dataframe tbody tr th:only-of-type {\n",
       "        vertical-align: middle;\n",
       "    }\n",
       "\n",
       "    .dataframe tbody tr th {\n",
       "        vertical-align: top;\n",
       "    }\n",
       "\n",
       "    .dataframe thead th {\n",
       "        text-align: right;\n",
       "    }\n",
       "</style>\n",
       "<table border=\"1\" class=\"dataframe\">\n",
       "  <thead>\n",
       "    <tr style=\"text-align: right;\">\n",
       "      <th></th>\n",
       "      <th>Average Math Score</th>\n",
       "      <th>Average Reading Score</th>\n",
       "      <th>% Passing Math</th>\n",
       "      <th>% Passing Reading</th>\n",
       "      <th>% Passing Both</th>\n",
       "    </tr>\n",
       "    <tr>\n",
       "      <th>School Type</th>\n",
       "      <th></th>\n",
       "      <th></th>\n",
       "      <th></th>\n",
       "      <th></th>\n",
       "      <th></th>\n",
       "    </tr>\n",
       "  </thead>\n",
       "  <tbody>\n",
       "    <tr>\n",
       "      <th>Charter</th>\n",
       "      <td>83.473852</td>\n",
       "      <td>83.896421</td>\n",
       "      <td>93.62083</td>\n",
       "      <td>96.586489</td>\n",
       "      <td>90.432244</td>\n",
       "    </tr>\n",
       "  </tbody>\n",
       "</table>\n",
       "</div>"
      ],
      "text/plain": [
       "             Average Math Score  Average Reading Score  % Passing Math  \\\n",
       "School Type                                                              \n",
       "Charter               83.473852              83.896421        93.62083   \n",
       "\n",
       "             % Passing Reading  % Passing Both  \n",
       "School Type                                     \n",
       "Charter              96.586489       90.432244  "
      ]
     },
     "execution_count": 204,
     "metadata": {},
     "output_type": "execute_result"
    }
   ],
   "source": [
    "# Assemble the new data by type into a DataFrame called `type_summary`\n",
    "type_summary_df = pd.DataFrame(average_math_score_by_type)\n",
    "type_summary_df = pd.merge(type_summary_df, average_reading_score_by_type, how=\"left\", on=[\"School Type\"])\n",
    "type_summary_df = pd.merge(type_summary_df, average_percent_passing_math_by_type, how=\"left\", on=[\"School Type\"])\n",
    "type_summary_df = pd.merge(type_summary_df, average_percent_passing_reading_by_type, how=\"left\", on=[\"School Type\"])\n",
    "type_summary_df = pd.merge(type_summary_df, average_percent_overall_passing_by_type, how=\"left\", on=[\"School Type\"])\n",
    "type_summary_df.head(1)"
   ]
  },
  {
   "cell_type": "code",
   "execution_count": 205,
   "metadata": {},
   "outputs": [],
   "source": [
    "#Formatting\n",
    "type_summary_df[\"Average Math Score\"] = type_summary_df[\"Average Math Score\"].map(\"%{:.2f}\".format)\n",
    "type_summary_df[\"Average Reading Score\"] = type_summary_df[\"Average Reading Score\"].map(\"%{:.2f}\".format)\n",
    "type_summary_df[\"% Passing Math\"] = type_summary_df[\"% Passing Math\"].map(\"%{:.2f}\".format)\n",
    "type_summary_df[\"% Passing Reading\"] = type_summary_df[\"% Passing Reading\"].map(\"%{:.2f}\".format)\n",
    "type_summary_df[\"% Passing Both\"] = type_summary_df[\"% Passing Both\"].map(\"%{:.2f}\".format)"
   ]
  },
  {
   "cell_type": "code",
   "execution_count": 206,
   "metadata": {},
   "outputs": [
    {
     "data": {
      "text/html": [
       "<div>\n",
       "<style scoped>\n",
       "    .dataframe tbody tr th:only-of-type {\n",
       "        vertical-align: middle;\n",
       "    }\n",
       "\n",
       "    .dataframe tbody tr th {\n",
       "        vertical-align: top;\n",
       "    }\n",
       "\n",
       "    .dataframe thead th {\n",
       "        text-align: right;\n",
       "    }\n",
       "</style>\n",
       "<table border=\"1\" class=\"dataframe\">\n",
       "  <thead>\n",
       "    <tr style=\"text-align: right;\">\n",
       "      <th></th>\n",
       "      <th>Average Math Score</th>\n",
       "      <th>Average Reading Score</th>\n",
       "      <th>% Passing Math</th>\n",
       "      <th>% Passing Reading</th>\n",
       "      <th>% Passing Both</th>\n",
       "    </tr>\n",
       "    <tr>\n",
       "      <th>School Type</th>\n",
       "      <th></th>\n",
       "      <th></th>\n",
       "      <th></th>\n",
       "      <th></th>\n",
       "      <th></th>\n",
       "    </tr>\n",
       "  </thead>\n",
       "  <tbody>\n",
       "    <tr>\n",
       "      <th>Charter</th>\n",
       "      <td>%83.47</td>\n",
       "      <td>%83.90</td>\n",
       "      <td>%93.62</td>\n",
       "      <td>%96.59</td>\n",
       "      <td>%90.43</td>\n",
       "    </tr>\n",
       "    <tr>\n",
       "      <th>District</th>\n",
       "      <td>%76.96</td>\n",
       "      <td>%80.97</td>\n",
       "      <td>%66.55</td>\n",
       "      <td>%80.80</td>\n",
       "      <td>%53.67</td>\n",
       "    </tr>\n",
       "  </tbody>\n",
       "</table>\n",
       "</div>"
      ],
      "text/plain": [
       "            Average Math Score Average Reading Score % Passing Math  \\\n",
       "School Type                                                           \n",
       "Charter                 %83.47                %83.90         %93.62   \n",
       "District                %76.96                %80.97         %66.55   \n",
       "\n",
       "            % Passing Reading % Passing Both  \n",
       "School Type                                   \n",
       "Charter                %96.59         %90.43  \n",
       "District               %80.80         %53.67  "
      ]
     },
     "execution_count": 206,
     "metadata": {},
     "output_type": "execute_result"
    }
   ],
   "source": [
    "# Display results\n",
    "type_summary_df"
   ]
  },
  {
   "cell_type": "code",
   "execution_count": null,
   "metadata": {},
   "outputs": [],
   "source": []
  }
 ],
 "metadata": {
  "anaconda-cloud": {},
  "kernel_info": {
   "name": "python3"
  },
  "kernelspec": {
   "display_name": "Python 3 (ipykernel)",
   "language": "python",
   "name": "python3"
  },
  "language_info": {
   "codemirror_mode": {
    "name": "ipython",
    "version": 3
   },
   "file_extension": ".py",
   "mimetype": "text/x-python",
   "name": "python",
   "nbconvert_exporter": "python",
   "pygments_lexer": "ipython3",
   "version": "3.11.3"
  },
  "latex_envs": {
   "LaTeX_envs_menu_present": true,
   "autoclose": false,
   "autocomplete": true,
   "bibliofile": "biblio.bib",
   "cite_by": "apalike",
   "current_citInitial": 1,
   "eqLabelWithNumbers": true,
   "eqNumInitial": 1,
   "hotkeys": {
    "equation": "Ctrl-E",
    "itemize": "Ctrl-I"
   },
   "labels_anchors": false,
   "latex_user_defs": false,
   "report_style_numbering": false,
   "user_envs_cfg": false
  },
  "nteract": {
   "version": "0.8.4"
  },
  "vscode": {
   "interpreter": {
    "hash": "5384d77d82de63fd599f73e77f9ec786e7719288bf80a29ec0288c670ac3cf32"
   }
  }
 },
 "nbformat": 4,
 "nbformat_minor": 4
}
